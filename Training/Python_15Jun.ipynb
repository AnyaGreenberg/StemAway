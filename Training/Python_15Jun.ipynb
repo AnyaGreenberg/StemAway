{
 "cells": [
  {
   "cell_type": "markdown",
   "metadata": {},
   "source": [
    "# **Python Training Exercises/HW Problems**\n",
    "### These problems will range in terms of difficulty from Easy to Hard"
   ]
  },
  {
   "cell_type": "markdown",
   "metadata": {},
   "source": [
    "## Problem 1\n",
    "### Print the following statement: \"Hello World\""
   ]
  },
  {
   "cell_type": "code",
   "execution_count": 51,
   "metadata": {},
   "outputs": [
    {
     "name": "stdout",
     "output_type": "stream",
     "text": [
      "Hello World\n"
     ]
    }
   ],
   "source": [
    "# Write your code for Problem 1 over here\n",
    "print(\"Hello World\")\n"
   ]
  },
  {
   "cell_type": "markdown",
   "metadata": {},
   "source": [
    "## Problem 2\n",
    "### Write a function where when given an integer *n*, perform the following conditional actions:\n",
    "* If *n* is odd, have the function return \"Weird\"\n",
    "* If *n* is even and in the inclusive range of 0 to 5, have the function return \"Not Weird\"\n",
    "* If *n* is even and in the inclusive range of 6 to 20, have the function return \"Weird\"\n",
    "* If *n* is even and greater than 20, have the function return \"Not Weird\""
   ]
  },
  {
   "cell_type": "code",
   "execution_count": 52,
   "metadata": {},
   "outputs": [],
   "source": [
    "def problem2(n):\n",
    "    # Write your code for Problem 2 over here\n",
    "    if (n%2 == 1):\n",
    "        return \"Weird\"\n",
    "    else:\n",
    "        if (n >=0 and n <= 5):\n",
    "            return \"Not Weird\"\n",
    "        elif (n >= 6 and n <=20):\n",
    "            return \"Weird\"\n",
    "        elif (n > 20):\n",
    "            return \"Not Weird\"\n",
    "        "
   ]
  },
  {
   "cell_type": "code",
   "execution_count": 53,
   "metadata": {},
   "outputs": [
    {
     "name": "stdout",
     "output_type": "stream",
     "text": [
      "Your function has passed all of the tests!\n"
     ]
    }
   ],
   "source": [
    "'''\n",
    "Don't modify this cell at all!! This cell is for you to run and check if your answer to Problem 2 is correct\n",
    "'''\n",
    "def testProblem2():\n",
    "    assert problem2(4) == 'Not Weird', \"Your function is returning the incorrect output\"\n",
    "    assert problem2(3) == 'Weird', \"Your function is returning the incorrect output\"\n",
    "    assert problem2(999) == 'Weird', \"Your function is returning the incorrect output\"\n",
    "    assert problem2(2) == 'Not Weird', \"Your function is returning the incorrect output\"\n",
    "    assert problem2(6) == 'Weird', \"Your function is returning the incorrect output\"\n",
    "    assert problem2(14) == 'Weird', \"Your function is returning the incorrect output\"\n",
    "    assert problem2(20) == 'Weird', \"Your function is returning the incorrect output\"\n",
    "    assert problem2(21) == 'Weird', \"Your function is returning the incorrect output\"\n",
    "    assert problem2(24) == 'Not Weird', \"Your function is returning the incorrect output\"\n",
    "    \n",
    "    print('Your function has passed all of the tests!')\n",
    "\n",
    "testProblem2()\n"
   ]
  },
  {
   "cell_type": "markdown",
   "metadata": {},
   "source": [
    "## Problem 3\n",
    "### Given two integers *a* and *b*, write separate functions for the following operations:\n",
    "* The sum of *a* and *b*\n",
    "* The difference of *a* and *b* (a - b)\n",
    "* The product of *a* and *b*\n",
    "* The quotient of *a* and *b*\n",
    "* The modulus of *a* and *b*\n",
    "* *a* to the power of *b* (a^b)"
   ]
  },
  {
   "cell_type": "code",
   "execution_count": 54,
   "metadata": {},
   "outputs": [],
   "source": [
    "def sum(a, b):\n",
    "    # Write your code for Problem 3 (Part 1) over here\n",
    "    return a+b\n",
    "\n",
    "def diff(a, b):\n",
    "    # Write your code for Problem 3 (Part 2) over here\n",
    "    return a - b\n",
    "\n",
    "def multiply(a, b):\n",
    "    # Write your code for Problem 3 (Part 3) over here\n",
    "    return a*b\n",
    "\n",
    "def divide(a, b):\n",
    "    # Write your code for Problem 3 (Part 4) over here\n",
    "    return a/b\n",
    "\n",
    "def modulus(a, b):\n",
    "    # Write your code for Problem 3 (Part 5) over here\n",
    "    return a%b\n",
    "\n",
    "def power(a, b):\n",
    "    # Write your code for Problem 3 (Part 6) over here\n",
    "    return a**b\n"
   ]
  },
  {
   "cell_type": "code",
   "execution_count": 55,
   "metadata": {},
   "outputs": [
    {
     "name": "stdout",
     "output_type": "stream",
     "text": [
      "Your function has passed all of the tests!\n"
     ]
    }
   ],
   "source": [
    "'''\n",
    "Don't modify this cell at all!! This cell is for you to run and check if your answer to Problem 3 is correct\n",
    "'''\n",
    "def testProblem3():\n",
    "    assert sum(0, 0) == 0, \"Your sum() function is incorrect\"\n",
    "    assert sum(-1, 1) == 0, \"Your sum() function is incorrect\"\n",
    "    assert sum(5, 7) == 12, \"Your sum() function is incorrect\"\n",
    "    assert sum(999, 1) == 1000, \"Your sum() function is incorrect\"\n",
    "    assert sum(0, -5) == -5, \"Your sum() function is incorrect\"\n",
    "    \n",
    "    assert diff(2, 2) == 0, \"Your diff() function is incorrect\"\n",
    "    assert diff(-5, 2) == -7, \"Your diff() function is incorrect\"\n",
    "    assert diff(0, 0) == 0, \"Your diff() function is incorrect\"\n",
    "    assert diff(5, 2) == 3, \"Your diff() function is incorrect\"\n",
    "    \n",
    "    assert multiply(1, 0) == 0, \"Your multiply() function is incorrect\"\n",
    "    assert multiply(0, 1) == 0, \"Your multiply() function is incorrect\"\n",
    "    assert multiply(-2, -3) == 6, \"Your multiply() function is incorrect\"\n",
    "    assert multiply(5, -6) == -30, \"Your multiply() function is incorrect\"\n",
    "    assert multiply(-2, 5) == -10, \"Your multiply() function is incorrect\"\n",
    "    \n",
    "    assert divide(0, 5) == 0, \"Your divide() function is incorrect\"\n",
    "    assert divide(-5, 10) == -0.5, \"Your divide() function is incorrect\"\n",
    "    assert divide(7, -10) == -0.7, \"Your divide() function is incorrect\"\n",
    "    assert divide(-10, -10) == 1.0, \"Your divide() function is incorrect\"\n",
    "    \n",
    "    assert modulus(7, 4) == 3, \"Your modulus() function is incorrect\"\n",
    "    assert modulus(7, -3) == -2, \"Your modulus() function is incorrect\"\n",
    "    assert modulus(-5, 4) == 3, \"Your modulus() function is incorrect\"\n",
    "    assert modulus(-5, -4) == -1, \"Your modulus() function is incorrect\"\n",
    "    assert modulus(0, 5) == 0, \"Your modulus() function is incorrect\"\n",
    "    assert modulus(0, -7) == 0, \"Your modulus() function is incorrect\"\n",
    "    \n",
    "    assert power(0, 2) == 0, \"Your power() function is incorrect\"\n",
    "    assert power(2, -1) == 0.5, \"Your power() function is incorrect\"\n",
    "    assert power(4, 0.5) == 2, \"Your power() function is incorrect\"\n",
    "    assert power(0, 2) == 0, \"Your power() function is incorrect\"\n",
    "    assert power(1, -1) == 1, \"Your power() function is incorrect\"\n",
    "    \n",
    "    print('Your function has passed all of the tests!')\n",
    "    \n",
    "testProblem3()\n"
   ]
  },
  {
   "cell_type": "markdown",
   "metadata": {},
   "source": [
    "## Problem 4\n",
    "### Print out each primitive type:\n",
    "* Integer\n",
    "* Float\n",
    "* String\n",
    "* Boolean"
   ]
  },
  {
   "cell_type": "code",
   "execution_count": 56,
   "metadata": {},
   "outputs": [
    {
     "name": "stdout",
     "output_type": "stream",
     "text": [
      "Integer: 63\n",
      "Float: 63.13\n",
      "String: Quirky\n",
      "Boolean: True\n"
     ]
    }
   ],
   "source": [
    "ex_int = 63 # Enter an integer of your choice\n",
    "ex_float = 63.13 # Enter a float of your choice\n",
    "ex_str = \"Quirky\" # Enter a string of your choice (it can't be empty)\n",
    "ex_bool = True # Enter a boolean of your choice\n",
    "\n",
    "print(\"Integer:\", ex_int)\n",
    "print(\"Float:\", ex_float)\n",
    "print(\"String:\", ex_str)\n",
    "print(\"Boolean:\", ex_bool)\n"
   ]
  },
  {
   "cell_type": "markdown",
   "metadata": {},
   "source": [
    "## Problem 5\n",
    "### Modify the following statements so that they print out \"True\""
   ]
  },
  {
   "cell_type": "code",
   "execution_count": 57,
   "metadata": {},
   "outputs": [
    {
     "name": "stdout",
     "output_type": "stream",
     "text": [
      "True\n",
      "True\n",
      "True\n",
      "True\n",
      "True\n",
      "True\n",
      "True\n"
     ]
    }
   ],
   "source": [
    "print(2 < 9)\n",
    "print(-2 <= 9)\n",
    "print(2 >= 1)\n",
    "print(-9 > -99)\n",
    "print('a' > 'A')\n",
    "print('a' < 'z')\n",
    "print('a' > 'Z')\n"
   ]
  },
  {
   "cell_type": "markdown",
   "metadata": {},
   "source": [
    "## Problem 6\n",
    "### Write conditional statements to check the following:\n",
    "* Does the list *x* contain the value **4**?\n",
    "* Does the list *x* contain the value **2**?\n",
    "* Does the string *y* contain **\"\"**?\n",
    "* Does the string *y* contain **\"hey\"**?\n",
    "* Does the string *y* contain **\"Hey\"**?"
   ]
  },
  {
   "cell_type": "code",
   "execution_count": 58,
   "metadata": {},
   "outputs": [
    {
     "name": "stdout",
     "output_type": "stream",
     "text": [
      "False\n",
      "True\n",
      "True\n",
      "True\n",
      "False\n"
     ]
    }
   ],
   "source": [
    "x = [1, 2, 3]\n",
    "y = 'hey guys!'\n",
    "\n",
    "# Write your code for Problem 6 over here\n",
    "print(4 in x)\n",
    "print(2 in x)\n",
    "print(\"\" in y)\n",
    "print(\"hey\" in y)\n",
    "print(\"Hey\" in y)\n"
   ]
  },
  {
   "cell_type": "markdown",
   "metadata": {},
   "source": [
    "## Problem 7\n",
    "### Use assignment operators to do the following:\n",
    "* Increment the value of *x* by 5\n",
    "* Decrement the value of *y* by 5\n",
    "* Multiply the value of *z* by 10\n",
    "* Divide the value of *a* by 3\n",
    "* Take the square of the value of *b*\n",
    "* Calculate the modulus of the value of *c* by 3"
   ]
  },
  {
   "cell_type": "code",
   "execution_count": 59,
   "metadata": {},
   "outputs": [
    {
     "name": "stdout",
     "output_type": "stream",
     "text": [
      "6\n",
      "10\n",
      "100\n",
      "2.0\n",
      "81\n",
      "1\n"
     ]
    }
   ],
   "source": [
    "x = 1 # After the operation, the value of x should be 6\n",
    "y = 15 # After the operation, the value of y should be 10\n",
    "z = 10 # After the operation, the value of z should be 100\n",
    "a = 6 # After the operation, the value of a should be 2\n",
    "b = 9 # After the operation, the value of b should be 81\n",
    "c = 7 # After the operation, the value of c should be 1\n",
    "\n",
    "# Write your code for Problem 7 over here\n",
    "x = x+5\n",
    "y = y-5\n",
    "z = z*10\n",
    "a = a/3\n",
    "b = b**2\n",
    "c = c%3\n",
    "\n",
    "print(x)\n",
    "print(y)\n",
    "print(z)\n",
    "print(a)\n",
    "print(b)\n",
    "print(c)\n"
   ]
  },
  {
   "cell_type": "markdown",
   "metadata": {},
   "source": [
    "## Problem 8\n",
    "### Conditional Statements\n",
    "* In this markdown cell, write a description of what the function of the \"and\" and \"or\" keywords is in Python. Include two examples of how you can use each keyword in Python as well.\n",
    "\n",
    "    * AND: if both operands are true, the expression is true\n",
    "    * OR: if either or both of the operands are true, the expression is true\n",
    "\n",
    "**Your examples must be written in Python. Use the code cell below to program your 4 examples**"
   ]
  },
  {
   "cell_type": "code",
   "execution_count": 60,
   "metadata": {},
   "outputs": [
    {
     "name": "stdout",
     "output_type": "stream",
     "text": [
      "True\n",
      "False\n",
      "True\n",
      "True\n"
     ]
    }
   ],
   "source": [
    "# Write your code for Problem 8 over here\n",
    "\n",
    "# Example 1 - AND\n",
    "print(True and True)\n",
    "\n",
    "# Example 2 - AND\n",
    "print (3 == 3 and 2 == 5)\n",
    "\n",
    "# Example 3 - OR\n",
    "print (True or True)\n",
    "\n",
    "# Example 4 - OR\n",
    "print(3 == 3 or 2 == 5)\n"
   ]
  },
  {
   "cell_type": "markdown",
   "metadata": {},
   "source": [
    "## Problem 9\n",
    "### String Concatenation\n",
    "* Use string concatenation to combine string variables to create the following phrase: \"Hey, my name is {YOUR NAME}!\"\n",
    "    * Example: \"Hey, my name is Nick!\""
   ]
  },
  {
   "cell_type": "code",
   "execution_count": 61,
   "metadata": {},
   "outputs": [
    {
     "name": "stdout",
     "output_type": "stream",
     "text": [
      "Hey, my name is Anya!\n"
     ]
    }
   ],
   "source": [
    "a = ', '\n",
    "b = \"is\"\n",
    "c = \"Hey\"\n",
    "d = \" \" \n",
    "e = \"name\"\n",
    "f = \" \"\n",
    "g = \"my \"\n",
    "h = \"Anya\" # Enter your name\n",
    "\n",
    "# Write your code for Problem 9 over here\n",
    "\n",
    "print(c + a + g + e, b, h + \"!\")\n"
   ]
  },
  {
   "cell_type": "markdown",
   "metadata": {},
   "source": [
    "## Problem 10\n",
    "### String Repetition and String Length\n",
    "* Print out the word \"Hey!\" 10 times without using a for loop!\n",
    "* Calculate the length of the string \"Hey!\"\n",
    "* Calculate the length of the string after you print out \"Hey!\" 10 times"
   ]
  },
  {
   "cell_type": "code",
   "execution_count": 62,
   "metadata": {},
   "outputs": [
    {
     "name": "stdout",
     "output_type": "stream",
     "text": [
      "Hey Hey Hey Hey Hey Hey Hey Hey Hey Hey \n",
      "3\n",
      "30\n"
     ]
    }
   ],
   "source": [
    "# Write your code for Problem 10 over here\n",
    "print(\"Hey \" * 10)\n",
    "print(len(\"Hey\"))\n",
    "print(len(\"Hey\"*10))\n"
   ]
  },
  {
   "cell_type": "markdown",
   "metadata": {},
   "source": [
    "## Problem 11\n",
    "### String Indexing\n",
    "* Print out the first and last character of the following string (using both indexing techniques, from the front and from the end)\n",
    "* Print out the hyphen of the following string (using both indexing techniques, from the front and from the end)"
   ]
  },
  {
   "cell_type": "code",
   "execution_count": 63,
   "metadata": {},
   "outputs": [
    {
     "name": "stdout",
     "output_type": "stream",
     "text": [
      "S\n",
      "S\n",
      "y\n",
      "y\n",
      "-\n",
      "-\n"
     ]
    }
   ],
   "source": [
    "# Write your code for Problem 11 over here\n",
    "\n",
    "problem9 = \"STEM-Away\"\n",
    "\n",
    "first_char_1 = problem9[0]\n",
    "first_char_2 = problem9[-9]\n",
    "last_char_1 = problem9[8]\n",
    "last_char_2 = problem9[-1]\n",
    "hyphen_front = problem9[4]\n",
    "hyphen_end = problem9[-5]\n",
    "\n",
    "print(first_char_1)\n",
    "print(first_char_2)\n",
    "print(last_char_1)\n",
    "print(last_char_1)\n",
    "print(hyphen_front)\n",
    "print(hyphen_end)\n"
   ]
  },
  {
   "cell_type": "markdown",
   "metadata": {},
   "source": [
    "## Problem 12\n",
    "### String Slicing\n",
    "* Use string slicing techniques to print out the following phrases separately: \"STEM\", \"-\", and \"Away\""
   ]
  },
  {
   "cell_type": "code",
   "execution_count": 64,
   "metadata": {},
   "outputs": [
    {
     "name": "stdout",
     "output_type": "stream",
     "text": [
      "STEM\n",
      "-\n",
      "Away\n"
     ]
    }
   ],
   "source": [
    "# Write your code for Problem 12 over here\n",
    "\n",
    "initial_string = \"STEM-Away\"\n",
    "stem_string = initial_string[0:4]\n",
    "hyphen = initial_string[4:5]\n",
    "away_string = initial_string[5:9]\n",
    "\n",
    "print(stem_string)\n",
    "print(hyphen)\n",
    "print(away_string)\n"
   ]
  },
  {
   "cell_type": "code",
   "execution_count": null,
   "metadata": {},
   "outputs": [],
   "source": []
  }
 ],
 "metadata": {
  "kernelspec": {
   "display_name": "Python 3",
   "language": "python",
   "name": "python3"
  },
  "language_info": {
   "codemirror_mode": {
    "name": "ipython",
    "version": 3
   },
   "file_extension": ".py",
   "mimetype": "text/x-python",
   "name": "python",
   "nbconvert_exporter": "python",
   "pygments_lexer": "ipython3",
   "version": "3.7.6"
  }
 },
 "nbformat": 4,
 "nbformat_minor": 4
}
