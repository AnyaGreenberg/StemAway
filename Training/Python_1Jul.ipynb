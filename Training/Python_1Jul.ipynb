{
 "cells": [
  {
   "cell_type": "markdown",
   "metadata": {},
   "source": [
    "# **Python Training Exercises/HW Problems**"
   ]
  },
  {
   "cell_type": "markdown",
   "metadata": {},
   "source": [
    "## Problem 1\n",
    "### You are given a string and your task is to swap cases. In other words, convert all lowercase letters to uppercase letters and vice versa."
   ]
  },
  {
   "cell_type": "code",
   "execution_count": null,
   "metadata": {},
   "outputs": [],
   "source": [
    "def case_swap(string):\n",
    "    # Write your code for Problem 1 over here\n",
    "    return None"
   ]
  },
  {
   "cell_type": "code",
   "execution_count": null,
   "metadata": {
    "tags": []
   },
   "outputs": [],
   "source": [
    "'''\n",
    "Don't modify this cell at all!! This cell is for you to run and check if your answer to Problem 1 is correct\n",
    "'''\n",
    "from string import ascii_lowercase, ascii_uppercase, digits, punctuation\n",
    "\n",
    "def testProblem1():\n",
    "    assert case_swap(ascii_lowercase) == ascii_uppercase, \"Your function is returning the incorrect output\"\n",
    "    assert case_swap(ascii_uppercase) == ascii_lowercase, \"Your function is returning the incorrect output\"\n",
    "    assert case_swap('aBcDeF') == 'AbCdEf', \"Your function is returning the incorrect output\"\n",
    "    assert case_swap('hey guys!') == 'HEY GUYS!', \"Your function is returning the incorrect output\"\n",
    "    assert case_swap('STEM-AWAY') == 'stem-away', \"Your function is returning the incorrect output\"\n",
    "    assert case_swap(digits) == digits, \"Your function is returning the incorrect output\"\n",
    "    assert case_swap(punctuation) == punctuation, \"Your function is returning the incorrect output\"\n",
    "    \n",
    "    print('Your function has passed all of the tests!')\n",
    "\n",
    "testProblem1()"
   ]
  },
  {
   "cell_type": "markdown",
   "metadata": {},
   "source": [
    "## Problem 2\n",
    "### Return the number of even integers in the given array."
   ]
  },
  {
   "cell_type": "code",
   "execution_count": null,
   "metadata": {},
   "outputs": [],
   "source": [
    "def even_ints(nums):\n",
    "    # Write your code for Problem 2 over here\n",
    "    return None"
   ]
  },
  {
   "cell_type": "code",
   "execution_count": null,
   "metadata": {
    "tags": []
   },
   "outputs": [],
   "source": [
    "'''\n",
    "Don't modify this cell at all!! This cell is for you to run and check if your answer to Problem 2 is correct\n",
    "'''\n",
    "def testProblem2():\n",
    "    assert even_ints([2, 1, 2, 3, 4]) == 3, \"Your function is returning the incorrect output\"\n",
    "    assert even_ints([2, 2, 0]) == 3, \"Your function is returning the incorrect output\"\n",
    "    assert even_ints([1, 3, 5]) == 0, \"Your function is returning the incorrect output\"\n",
    "    assert even_ints([]) == 0, \"Your function is returning the incorrect output\"\n",
    "    assert even_ints([11, 9, 0, 1]) == 1, \"Your function is returning the incorrect output\"\n",
    "    assert even_ints([2, 11, 9, 0]) == 2, \"Your function is returning the incorrect output\"\n",
    "    assert even_ints([2]) == 1, \"Your function is returning the incorrect output\"\n",
    "    assert even_ints([2, 5, 12]) == 2, \"Your function is returning the incorrect output\"\n",
    "    \n",
    "    print('Your function has passed all of the tests!')\n",
    "\n",
    "testProblem2()"
   ]
  },
  {
   "cell_type": "markdown",
   "metadata": {},
   "source": [
    "## Problem 3\n",
    "### Given an array of ints, return True if the array contains a 2 next to a 2 somewhere."
   ]
  },
  {
   "cell_type": "code",
   "execution_count": null,
   "metadata": {},
   "outputs": [],
   "source": [
    "def two_neighbors(nums):\n",
    "    # Write your code for Problem 3 over here\n",
    "    return None"
   ]
  },
  {
   "cell_type": "code",
   "execution_count": null,
   "metadata": {
    "scrolled": false,
    "tags": []
   },
   "outputs": [],
   "source": [
    "'''\n",
    "Don't modify this cell at all!! This cell is for you to run and check if your answer to Problem 3 is correct\n",
    "'''\n",
    "def testProblem3():\n",
    "    assert two_neighbors([1, 2, 2]) == True, \"Your function is returning the incorrect output\"\n",
    "    assert two_neighbors([2, 0, 2]) == False, \"Your function is returning the incorrect output\"\n",
    "    assert two_neighbors([4, 5, 6]) == False, \"Your function is returning the incorrect output\"\n",
    "    assert two_neighbors([2, 2, 2]) == True, \"Your function is returning the incorrect output\"\n",
    "    \n",
    "    print('Your function has passed all of the tests!')\n",
    "    \n",
    "testProblem3()"
   ]
  },
  {
   "cell_type": "markdown",
   "metadata": {},
   "source": [
    "## Problem 4\n",
    "### Write a function in Python that implements the following logic: The squirrels in Palo Alto spend most of the day playing. In particular, they play if the temperature is between 60 and 90 (inclusive). Unless it is summer, then the upper limit is 100 instead of 90. Given an integer *temperature* and a Boolean *isSummer*, return *True* if the squirrels play and *False* otherwise."
   ]
  },
  {
   "cell_type": "code",
   "execution_count": null,
   "metadata": {},
   "outputs": [],
   "source": [
    "def squirrelPlay(temperature, isSummer):\n",
    "    # Write your code for Problem 4 over here\n",
    "    return None"
   ]
  },
  {
   "cell_type": "code",
   "execution_count": null,
   "metadata": {
    "tags": []
   },
   "outputs": [],
   "source": [
    "'''\n",
    "Don't modify this cell at all!! This cell is for you to run and check if your answer to Problem 4 is correct\n",
    "'''\n",
    "def testProblem4():\n",
    "    assert squirrelPlay(70, False) == True, \"Your function is returning the incorrect output\"\n",
    "    assert squirrelPlay(95, False) == False, \"Your function is returning the incorrect output\"\n",
    "    assert squirrelPlay(95, True) == True, \"Your function is returning the incorrect output\"\n",
    "    assert squirrelPlay(90, False) == True, \"Your function is returning the incorrect output\"\n",
    "    assert squirrelPlay(90, True) == True, \"Your function is returning the incorrect output\"\n",
    "    assert squirrelPlay(50, False) == False, \"Your function is returning the incorrect output\"\n",
    "    assert squirrelPlay(50, True) == False, \"Your function is returning the incorrect output\"\n",
    "    assert squirrelPlay(100, False) == False, \"Your function is returning the incorrect output\"\n",
    "    assert squirrelPlay(100, True) == True, \"Your function is returning the incorrect output\"\n",
    "    assert squirrelPlay(105, True) == False, \"Your function is returning the incorrect output\"\n",
    "    assert squirrelPlay(59, False) == False, \"Your function is returning the incorrect output\"\n",
    "    assert squirrelPlay(59, True) == False, \"Your function is returning the incorrect output\"\n",
    "    assert squirrelPlay(60, False) == True, \"Your function is returning the incorrect output\"\n",
    "\n",
    "    \n",
    "    print('Your function has passed all of the tests!')\n",
    "    \n",
    "testProblem4()"
   ]
  },
  {
   "cell_type": "markdown",
   "metadata": {},
   "source": [
    "## Problem 5\n",
    "### Given a string, consider the prefix string made of the first *N* chars of the string. Does that prefix string appear somewhere else in the string? Assume that the string is not empty and that *N* is in the range *1..str.length()*."
   ]
  },
  {
   "cell_type": "code",
   "execution_count": null,
   "metadata": {},
   "outputs": [],
   "source": [
    "def prefixAgain(str, n):\n",
    "    # Write your code for Problem 5 over here\n",
    "    return None"
   ]
  },
  {
   "cell_type": "code",
   "execution_count": null,
   "metadata": {
    "tags": []
   },
   "outputs": [],
   "source": [
    "'''\n",
    "Don't modify this cell at all!! This cell is for you to run and check if your answer to Problem 5 is correct\n",
    "'''\n",
    "def testProblem5():\n",
    "    assert prefixAgain(\"abXYabc\", 1) == True, \"Your function is returning the incorrect output\"\n",
    "    assert prefixAgain(\"abXYabc\", 2)  == True, \"Your function is returning the incorrect output\"\n",
    "    assert prefixAgain(\"abXYabc\", 3) == False, \"Your function is returning the incorrect output\"\n",
    "    assert prefixAgain(\"xyzxyxyxy\", 2) == True, \"Your function is returning the incorrect output\"\n",
    "    assert prefixAgain(\"xyzxyxyxy\", 3) == False, \"Your function is returning the incorrect output\"\n",
    "    assert prefixAgain(\"Hi12345Hi6789Hi10\", 1) == True, \"Your function is returning the incorrect output\"\n",
    "    assert prefixAgain(\"Hi12345Hi6789Hi10\", 2) == True, \"Your function is returning the incorrect output\"\n",
    "    assert prefixAgain(\"Hi12345Hi6789Hi10\", 4) == False, \"Your function is returning the incorrect output\"\n",
    "    assert prefixAgain(\"Hi12345Hi6789Hi10\", 3) == True, \"Your function is returning the incorrect output\"\n",
    "    assert prefixAgain(\"a\", 1) == False, \"Your function is returning the incorrect output\"\n",
    "    assert prefixAgain(\"aa\", 1) == True, \"Your function is returning the incorrect output\"\n",
    "    assert prefixAgain(\"ab\", 1) == False, \"Your function is returning the incorrect output\"\n",
    "\n",
    "    \n",
    "    print('Your function has passed all of the tests!')\n",
    "    \n",
    "testProblem5()"
   ]
  },
  {
   "cell_type": "markdown",
   "metadata": {},
   "source": [
    "## Problem 6\n",
    "1. Download the CSV file from the following website: https://www.kaggle.com/dgomonov/new-york-city-airbnb-open-data.\n",
    "2. Create a Pandas Dataframe of the dataset and display the first 10 rows of the Pandas Dataframe.\n",
    "3. Filter through the dataset and clean it.\n",
    "4. Create a Pandas Dataframe of the dataset after cleaning it and display the first 10 rows of the Pandas Dataframe.\n",
    "5. Use ***seaborn*** and plot *2* different graphs using the preprocessed dataset."
   ]
  },
  {
   "cell_type": "code",
   "execution_count": null,
   "metadata": {},
   "outputs": [],
   "source": [
    "# Write your code for Problem 6 over here"
   ]
  },
  {
   "cell_type": "markdown",
   "metadata": {},
   "source": [
    "## Problem 7\n",
    "1. Choose a dataset of your choice from the following website: https://corgis-edu.github.io/corgis/json/.\n",
    "2. Create a Pandas Dataframe of your preferred dataset in JSON format using the dataset's link (don't download the dataset) and display the first 10 rows of the Pandas Dataframe.\n",
    "3. Use ***matplotlib*** and plot *5* different graphs."
   ]
  },
  {
   "cell_type": "code",
   "execution_count": null,
   "metadata": {},
   "outputs": [],
   "source": [
    "# Write your code for Problem 7 over here"
   ]
  },
  {
   "cell_type": "markdown",
   "metadata": {},
   "source": [
    "## Problem 8\n",
    "### You are given a positive integer *N*.\n",
    "### Your task is to print a palindromic triangle of size *N*.\n",
    "### \n",
    "### For example, a palindromic triangle of size *5* is:\n",
    "### \n",
    "## 1\n",
    "## 121\n",
    "## 12321\n",
    "## 1234321\n",
    "## 123454321\n",
    "### \n",
    "### Note: You can't use string-related functions and you can only use one for-loop"
   ]
  },
  {
   "cell_type": "code",
   "execution_count": 1,
   "metadata": {},
   "outputs": [],
   "source": [
    "# Write your code for Problem 8 over here"
   ]
  },
  {
   "cell_type": "markdown",
   "metadata": {},
   "source": [
    "## Problem 9\n",
    "### Given two lists. Create a third list by picking an odd-index element from the first list and even index elements from second."
   ]
  },
  {
   "cell_type": "code",
   "execution_count": null,
   "metadata": {},
   "outputs": [],
   "source": [
    "# Write your code for Problem 9 over here"
   ]
  },
  {
   "cell_type": "markdown",
   "metadata": {},
   "source": [
    "## Problem 10\n",
    "### Given a list, count the occurrence of each element and create a dictionary to show the count of each element."
   ]
  },
  {
   "cell_type": "code",
   "execution_count": null,
   "metadata": {},
   "outputs": [],
   "source": [
    "# Write your code for Problem 10 over here"
   ]
  },
  {
   "cell_type": "markdown",
   "metadata": {},
   "source": [
    "## Problem 11\n",
    "### Given two lists, convert them into a dictionary. The first list will represent the \"keys\", and the second list will represent the \"values\""
   ]
  },
  {
   "cell_type": "code",
   "execution_count": null,
   "metadata": {},
   "outputs": [],
   "source": [
    "# Write your code for Problem 11 over here"
   ]
  },
  {
   "cell_type": "markdown",
   "metadata": {},
   "source": [
    "## Problem 12\n",
    "### Merge 2 dictionaries into 1 dictionary"
   ]
  },
  {
   "cell_type": "code",
   "execution_count": 2,
   "metadata": {},
   "outputs": [],
   "source": [
    "# Write your code for Problem 12 over here"
   ]
  },
  {
   "cell_type": "markdown",
   "metadata": {},
   "source": [
    "## Problem 13\n",
    "### Using *numpy*, create a 4 by 2 integer array and print its attributes (the shape of the array and the array dimensions)"
   ]
  },
  {
   "cell_type": "code",
   "execution_count": 3,
   "metadata": {},
   "outputs": [],
   "source": [
    "# Write your code for Problem 13 over here"
   ]
  },
  {
   "cell_type": "markdown",
   "metadata": {},
   "source": [
    "# Problem 14 - Problem 25"
   ]
  },
  {
   "cell_type": "markdown",
   "metadata": {},
   "source": [
    "## Problem 14\n",
    "#### Create a Pandas Dataframe using the CSV file provided at this link: https://pynative.com/wp-content/uploads/2019/01/company_sales_data.csv\n",
    "#### Also, display the first 20 rows of the dataframe\n",
    "#### Note: Don't download the CSV File, and you can use either *matplotlib* or *seaborn* for these problems"
   ]
  },
  {
   "cell_type": "code",
   "execution_count": 4,
   "metadata": {},
   "outputs": [],
   "source": [
    "# Write your code for Problem 14 over here"
   ]
  },
  {
   "cell_type": "markdown",
   "metadata": {},
   "source": [
    "## Problem 15\n",
    "### Using a line plot, plot the Month (x-axis) against the Total Profit (y-axis)"
   ]
  },
  {
   "cell_type": "code",
   "execution_count": 5,
   "metadata": {},
   "outputs": [],
   "source": [
    "# Write your code for Problem 15 over here"
   ]
  },
  {
   "cell_type": "markdown",
   "metadata": {},
   "source": [
    "## Problem 16\n",
    "### Using a line plot, plot the Month (x-axis) against the Total Profit (y-axis) with the following style properties:\n",
    "* Dotted Red Line\n",
    "* The width of the line graph should be 3\n",
    "* Legend should be placed at the bottom right section of the graph\n",
    "* Add a label for the x-axis\n",
    "* Add a label for the y-axis\n",
    "* Add a title\n",
    "* Add a yellow circular marker at each point on the graph"
   ]
  },
  {
   "cell_type": "code",
   "execution_count": 6,
   "metadata": {},
   "outputs": [],
   "source": [
    "# Write your code for Problem 16 over here"
   ]
  },
  {
   "cell_type": "markdown",
   "metadata": {},
   "source": [
    "## Problem 17\n",
    "### Display the number of units sold per month for each product using multiline plots (must be on the same figure). Make sure that the plot for each product is a different color, and add a legend, title, and axis labels to the graph as well."
   ]
  },
  {
   "cell_type": "code",
   "execution_count": 7,
   "metadata": {},
   "outputs": [],
   "source": [
    "# Write your code for Problem 17 over here"
   ]
  },
  {
   "cell_type": "markdown",
   "metadata": {},
   "source": [
    "## Problem 18\n",
    "### Plot the toothpaste sales data of each month using a scatter plot. Also, add a grid on the plot, the gridline style should be \"-\"."
   ]
  },
  {
   "cell_type": "code",
   "execution_count": 8,
   "metadata": {},
   "outputs": [],
   "source": [
    "# Write your code for Problem 18 over here"
   ]
  },
  {
   "cell_type": "markdown",
   "metadata": {},
   "source": [
    "## Problem 19\n",
    "### Plot the product sales data of face cream and facewash using a bar chart on the same plot."
   ]
  },
  {
   "cell_type": "code",
   "execution_count": 9,
   "metadata": {},
   "outputs": [],
   "source": [
    "# Write your code for Problem 19 over here"
   ]
  },
  {
   "cell_type": "markdown",
   "metadata": {},
   "source": [
    "## Problem 20\n",
    "### Plot the total profit of each month using a histogram"
   ]
  },
  {
   "cell_type": "code",
   "execution_count": 10,
   "metadata": {},
   "outputs": [],
   "source": [
    "# Write your code for Problem 20 over here"
   ]
  },
  {
   "cell_type": "markdown",
   "metadata": {},
   "source": [
    "## Problem 21\n",
    "### Calculate the total sales data for last year for each product and show it using a pie chart. Make sure that the percentage of each slice on the pie chart is visible on the chart itself, and add a legend as well."
   ]
  },
  {
   "cell_type": "code",
   "execution_count": 11,
   "metadata": {},
   "outputs": [],
   "source": [
    "# Write your code for Problem 21 over here"
   ]
  },
  {
   "cell_type": "markdown",
   "metadata": {},
   "source": [
    "## Problem 22\n",
    "### Plot all of the product sales data using a stack plot."
   ]
  },
  {
   "cell_type": "code",
   "execution_count": 12,
   "metadata": {},
   "outputs": [],
   "source": [
    "# Write your code for Problem 22 over here"
   ]
  }
 ],
 "metadata": {
  "kernelspec": {
   "display_name": "Python 3",
   "language": "python",
   "name": "python3"
  },
  "language_info": {
   "codemirror_mode": {
    "name": "ipython",
    "version": 3
   },
   "file_extension": ".py",
   "mimetype": "text/x-python",
   "name": "python",
   "nbconvert_exporter": "python",
   "pygments_lexer": "ipython3",
   "version": "3.7.6-final"
  }
 },
 "nbformat": 4,
 "nbformat_minor": 4
}