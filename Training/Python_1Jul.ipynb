{
 "cells": [
  {
   "cell_type": "markdown",
   "metadata": {},
   "source": [
    "# **Python Training Exercises/HW Problems**"
   ]
  },
  {
   "cell_type": "markdown",
   "metadata": {},
   "source": [
    "## Problem 1\n",
    "### You are given a string and your task is to swap cases. In other words, convert all lowercase letters to uppercase letters and vice versa."
   ]
  },
  {
   "cell_type": "code",
   "execution_count": null,
   "metadata": {},
   "outputs": [],
   "source": [
    "def case_swap(string):\n",
    "    # Write your code for Problem 1 over here\n",
    "    result = \"\"\n",
    "    for i in range(len(string)):\n",
    "        if string[i].isupper():\n",
    "            result = result+string[i].lower()\n",
    "        elif string[i].islower():\n",
    "            result = result+string[i].upper()\n",
    "        else:\n",
    "            result = result+string[i]\n",
    "    \n",
    "    return result"
   ]
  },
  {
   "cell_type": "code",
   "execution_count": null,
   "metadata": {
    "tags": []
   },
   "outputs": [],
   "source": [
    "'''\n",
    "Don't modify this cell at all!! This cell is for you to run and check if your answer to Problem 1 is correct\n",
    "'''\n",
    "from string import ascii_lowercase, ascii_uppercase, digits, punctuation\n",
    "\n",
    "def testProblem1():\n",
    "    assert case_swap(ascii_lowercase) == ascii_uppercase, \"Your function is returning the incorrect output\"\n",
    "    assert case_swap(ascii_uppercase) == ascii_lowercase, \"Your function is returning the incorrect output\"\n",
    "    assert case_swap('aBcDeF') == 'AbCdEf', \"Your function is returning the incorrect output\"\n",
    "    assert case_swap('hey guys!') == 'HEY GUYS!', \"Your function is returning the incorrect output\"\n",
    "    assert case_swap('STEM-AWAY') == 'stem-away', \"Your function is returning the incorrect output\"\n",
    "    assert case_swap(digits) == digits, \"Your function is returning the incorrect output\"\n",
    "    assert case_swap(punctuation) == punctuation, \"Your function is returning the incorrect output\"\n",
    "    \n",
    "    print('Your function has passed all of the tests!')\n",
    "\n",
    "testProblem1()"
   ]
  },
  {
   "cell_type": "markdown",
   "metadata": {},
   "source": [
    "## Problem 2\n",
    "### Return the number of even integers in the given array."
   ]
  },
  {
   "cell_type": "code",
   "execution_count": null,
   "metadata": {},
   "outputs": [],
   "source": [
    "def even_ints(nums):\n",
    "    # Write your code for Problem 2 over here\n",
    "    count = 0\n",
    "    for i in nums:\n",
    "        if i%2 == 0:\n",
    "            count = count+1\n",
    "    return count"
   ]
  },
  {
   "cell_type": "code",
   "execution_count": null,
   "metadata": {
    "tags": []
   },
   "outputs": [],
   "source": [
    "'''\n",
    "Don't modify this cell at all!! This cell is for you to run and check if your answer to Problem 2 is correct\n",
    "'''\n",
    "def testProblem2():\n",
    "    assert even_ints([2, 1, 2, 3, 4]) == 3, \"Your function is returning the incorrect output\"\n",
    "    assert even_ints([2, 2, 0]) == 3, \"Your function is returning the incorrect output\"\n",
    "    assert even_ints([1, 3, 5]) == 0, \"Your function is returning the incorrect output\"\n",
    "    assert even_ints([]) == 0, \"Your function is returning the incorrect output\"\n",
    "    assert even_ints([11, 9, 0, 1]) == 1, \"Your function is returning the incorrect output\"\n",
    "    assert even_ints([2, 11, 9, 0]) == 2, \"Your function is returning the incorrect output\"\n",
    "    assert even_ints([2]) == 1, \"Your function is returning the incorrect output\"\n",
    "    assert even_ints([2, 5, 12]) == 2, \"Your function is returning the incorrect output\"\n",
    "    \n",
    "    print('Your function has passed all of the tests!')\n",
    "\n",
    "testProblem2()"
   ]
  },
  {
   "cell_type": "markdown",
   "metadata": {},
   "source": [
    "## Problem 3\n",
    "### Given an array of ints, return True if the array contains a 2 next to a 2 somewhere."
   ]
  },
  {
   "cell_type": "code",
   "execution_count": null,
   "metadata": {},
   "outputs": [],
   "source": [
    "def two_neighbors(nums):\n",
    "    # Write your code for Problem 3 over here\n",
    "    for i in range(len(nums)-1):\n",
    "        if nums[i] == 2 and nums[i+1] == 2:\n",
    "            return True\n",
    "    return False"
   ]
  },
  {
   "cell_type": "code",
   "execution_count": null,
   "metadata": {
    "tags": []
   },
   "outputs": [],
   "source": [
    "'''\n",
    "Don't modify this cell at all!! This cell is for you to run and check if your answer to Problem 3 is correct\n",
    "'''\n",
    "def testProblem3():\n",
    "    assert two_neighbors([1, 2, 2]) == True, \"Your function is returning the incorrect output\"\n",
    "    assert two_neighbors([2, 0, 2]) == False, \"Your function is returning the incorrect output\"\n",
    "    assert two_neighbors([4, 5, 6]) == False, \"Your function is returning the incorrect output\"\n",
    "    assert two_neighbors([2, 2, 2]) == True, \"Your function is returning the incorrect output\"\n",
    "    \n",
    "    print('Your function has passed all of the tests!')\n",
    "    \n",
    "testProblem3()"
   ]
  },
  {
   "cell_type": "markdown",
   "metadata": {},
   "source": [
    "## Problem 4\n",
    "### Write a function in Python that implements the following logic: The squirrels in Palo Alto spend most of the day playing. In particular, they play if the temperature is between 60 and 90 (inclusive). Unless it is summer, then the upper limit is 100 instead of 90. Given an integer *temperature* and a Boolean *isSummer*, return *True* if the squirrels play and *False* otherwise."
   ]
  },
  {
   "cell_type": "code",
   "execution_count": null,
   "metadata": {},
   "outputs": [],
   "source": [
    "def squirrelPlay(temperature, isSummer):\n",
    "    # Write your code for Problem 4 over here\n",
    "    if isSummer and temperature <= 100 and temperature >= 60:\n",
    "        return True\n",
    "    elif not isSummer and temperature <= 90 and temperature >= 60:\n",
    "        return True\n",
    "    return False"
   ]
  },
  {
   "cell_type": "code",
   "execution_count": null,
   "metadata": {
    "tags": []
   },
   "outputs": [],
   "source": [
    "'''\n",
    "Don't modify this cell at all!! This cell is for you to run and check if your answer to Problem 4 is correct\n",
    "'''\n",
    "def testProblem4():\n",
    "    assert squirrelPlay(70, False) == True, \"Your function is returning the incorrect output\"\n",
    "    assert squirrelPlay(95, False) == False, \"Your function is returning the incorrect output\"\n",
    "    assert squirrelPlay(95, True) == True, \"Your function is returning the incorrect output\"\n",
    "    assert squirrelPlay(90, False) == True, \"Your function is returning the incorrect output\"\n",
    "    assert squirrelPlay(90, True) == True, \"Your function is returning the incorrect output\"\n",
    "    assert squirrelPlay(50, False) == False, \"Your function is returning the incorrect output\"\n",
    "    assert squirrelPlay(50, True) == False, \"Your function is returning the incorrect output\"\n",
    "    assert squirrelPlay(100, False) == False, \"Your function is returning the incorrect output\"\n",
    "    assert squirrelPlay(100, True) == True, \"Your function is returning the incorrect output\"\n",
    "    assert squirrelPlay(105, True) == False, \"Your function is returning the incorrect output\"\n",
    "    assert squirrelPlay(59, False) == False, \"Your function is returning the incorrect output\"\n",
    "    assert squirrelPlay(59, True) == False, \"Your function is returning the incorrect output\"\n",
    "    assert squirrelPlay(60, False) == True, \"Your function is returning the incorrect output\"\n",
    "\n",
    "    \n",
    "    print('Your function has passed all of the tests!')\n",
    "    \n",
    "testProblem4()"
   ]
  },
  {
   "cell_type": "markdown",
   "metadata": {},
   "source": [
    "## Problem 5\n",
    "### Given a string, consider the prefix string made of the first *N* chars of the string. Does that prefix string appear somewhere else in the string? Assume that the string is not empty and that *N* is in the range *1..str.length()*."
   ]
  },
  {
   "cell_type": "code",
   "execution_count": null,
   "metadata": {},
   "outputs": [],
   "source": [
    "def prefixAgain(string, n):\n",
    "    # Write your code for Problem 5 over here\n",
    "    prefix = string[:n]\n",
    "    counter = 0 \n",
    "    \n",
    "    for i in range(1,len(string)):\n",
    "        if string[i] == prefix[0] and i <= len(string)-n:\n",
    "            counter = 0\n",
    "            for j in range(len(prefix)):\n",
    "                if prefix[j] == string[i+j]:\n",
    "                    counter = counter+1\n",
    "                    \n",
    "    return counter == n"
   ]
  },
  {
   "cell_type": "code",
   "execution_count": null,
   "metadata": {
    "tags": []
   },
   "outputs": [],
   "source": [
    "'''\n",
    "Don't modify this cell at all!! This cell is for you to run and check if your answer to Problem 5 is correct\n",
    "'''\n",
    "def testProblem5():\n",
    "    assert prefixAgain(\"abXYabc\", 1) == True, \"Your function is returning the incorrect output\"\n",
    "    assert prefixAgain(\"abXYabc\", 2)  == True, \"Your function is returning the incorrect output\"\n",
    "    assert prefixAgain(\"abXYabc\", 3) == False, \"Your function is returning the incorrect output\"\n",
    "    assert prefixAgain(\"xyzxyxyxy\", 2) == True, \"Your function is returning the incorrect output\"\n",
    "    assert prefixAgain(\"xyzxyxyxy\", 3) == False, \"Your function is returning the incorrect output\"\n",
    "    assert prefixAgain(\"Hi12345Hi6789Hi10\", 1) == True, \"Your function is returning the incorrect output\"\n",
    "    assert prefixAgain(\"Hi12345Hi6789Hi10\", 2) == True, \"Your function is returning the incorrect output\"\n",
    "    assert prefixAgain(\"Hi12345Hi6789Hi10\", 4) == False, \"Your function is returning the incorrect output\"\n",
    "    assert prefixAgain(\"Hi12345Hi6789Hi10\", 3) == True, \"Your function is returning the incorrect output\"\n",
    "    assert prefixAgain(\"a\", 1) == False, \"Your function is returning the incorrect output\"\n",
    "    assert prefixAgain(\"aa\", 1) == True, \"Your function is returning the incorrect output\"\n",
    "    assert prefixAgain(\"ab\", 1) == False, \"Your function is returning the incorrect output\"\n",
    "\n",
    "    \n",
    "    print('Your function has passed all of the tests!')\n",
    "    \n",
    "testProblem5()"
   ]
  },
  {
   "cell_type": "markdown",
   "metadata": {},
   "source": [
    "## Problem 6\n",
    "1. Download the CSV file from the following website: https://www.kaggle.com/dgomonov/new-york-city-airbnb-open-data.\n",
    "2. Create a Pandas Dataframe of the dataset and display the first 10 rows of the Pandas Dataframe.\n",
    "3. Filter through the dataset and clean it.\n",
    "4. Create a Pandas Dataframe of the dataset after cleaning it and display the first 10 rows of the Pandas Dataframe.\n",
    "5. Use ***seaborn*** and plot *2* different graphs using the preprocessed dataset."
   ]
  },
  {
   "cell_type": "code",
   "execution_count": null,
   "metadata": {},
   "outputs": [],
   "source": [
    "# Write your code for Problem 6 over here\n",
    "import numpy as np\n",
    "import pandas as pd\n",
    "import seaborn as sns\n",
    "import matplotlib.pyplot as plt\n",
    "\n",
    "#2\n",
    "data = pd.read_csv(\"C:/Users/durbe/Documents/repositories/StemAway/Training/datasets/AB_NYC_2019.csv\")\n",
    "data.head(10)"
   ]
  },
  {
   "cell_type": "code",
   "execution_count": null,
   "metadata": {},
   "outputs": [],
   "source": [
    "#3\n",
    "df = data[[\"id\", \"host_id\", \"neighbourhood_group\", \"neighbourhood\", \"room_type\", \"price\", \"minimum_nights\", \"number_of_reviews\", \"last_review\", \"reviews_per_month\", \"calculated_host_listings_count\", \"availability_365\"]]\n",
    "df = df.replace(np.nan, 0)\n",
    "\n",
    "#4\n",
    "df.head(10)\n"
   ]
  },
  {
   "cell_type": "code",
   "execution_count": null,
   "metadata": {},
   "outputs": [],
   "source": [
    "#5.1\n",
    "ax = sns.barplot(x=\"neighbourhood_group\", y=\"price\", data=df, hue=\"room_type\", \n",
    "           hue_order=[\"Entire home/apt\", \"Private room\", \"Shared room\"])\n",
    "ax.set_title(\"Distribution of Boroughs and Room Types\")\n",
    "ax.legend(bbox_to_anchor=(1.05,1))"
   ]
  },
  {
   "cell_type": "code",
   "execution_count": null,
   "metadata": {},
   "outputs": [],
   "source": [
    "#5.2\n",
    "df = data[data[\"price\"] < 500]\n",
    "ax = sns.catplot(x=\"neighbourhood_group\", y=\"price\", col=\"room_type\", kind=\"violin\", data=df)\n",
    "plt.subplots_adjust(top=0.9)\n",
    "ax.fig.suptitle(\"Distribution of Prices Based on Borough\")"
   ]
  },
  {
   "cell_type": "markdown",
   "metadata": {},
   "source": [
    "## Problem 7\n",
    "1. Choose a dataset of your choice from the following website: https://corgis-edu.github.io/corgis/json/.\n",
    "2. Create a Pandas Dataframe of your preferred dataset in JSON format using the dataset's link (don't download the dataset) and display the first 10 rows of the Pandas Dataframe.\n",
    "3. Use ***matplotlib*** and plot *5* different graphs."
   ]
  },
  {
   "cell_type": "code",
   "execution_count": null,
   "metadata": {},
   "outputs": [],
   "source": [
    "# Write your code for Problem 7 over here\n",
    "import requests\n",
    "import json\n",
    "from pandas.io.json import json_normalize\n",
    "\n",
    "#1\n",
    "df = pd.read_json('https://corgis-edu.github.io/corgis/datasets/json/video_games/video_games.json')\n",
    "\n",
    "#2\n",
    "##flatten\n",
    "feats = pd.json_normalize(df.Features, meta='Title')\n",
    "meta = pd.json_normalize(df.Metadata, meta='Title')\n",
    "metrics = pd.json_normalize(df.Metrics, meta='Title')\n",
    "release = pd.json_normalize(df.Release, meta='Title')\n",
    "length = pd.json_normalize(df.Length, meta='Title')\n",
    "\n",
    "##merge\n",
    "df = df.Title\n",
    "df = pd.concat([df,feats, meta, metrics, release, length], axis=1)\n",
    "df = df.replace(\"\", np.nan)\n",
    "df.head(10)\n"
   ]
  },
  {
   "cell_type": "code",
   "execution_count": null,
   "metadata": {},
   "outputs": [],
   "source": [
    "#3.1\n",
    "plt.scatter(x=\"Review Score\", y=\"Sales\", label=\"Rating\", data=df)\n",
    "plt.title(\"Sales vs. Review Score\")\n",
    "plt.xlabel(\"Review Score\")\n",
    "plt.ylabel(\"Sales\")"
   ]
  },
  {
   "cell_type": "code",
   "execution_count": null,
   "metadata": {},
   "outputs": [],
   "source": [
    "#3.2\n",
    "p2 = df.groupby([\"Genres\"]).count()\n",
    "\n",
    "#count overall frequency of genres\n",
    "temp = {}\n",
    "rows = p2.index.values\n",
    "for i in range(len(rows)):\n",
    "    string = rows[i].split(',')\n",
    "    count = p2.Title[i]\n",
    "    for j in string:\n",
    "        if j in temp.keys():\n",
    "            temp[j] = temp[j]+count\n",
    "        else:\n",
    "            temp[j] = count\n",
    "        \n",
    "p2 = temp\n",
    "\n",
    "plt.bar(x=p2.keys(), height=p2.values())\n",
    "plt.xticks(rotation=50)\n",
    "plt.title('Distribution of Genres')\n",
    "plt.ylabel('Absolute Counts')"
   ]
  },
  {
   "cell_type": "code",
   "execution_count": null,
   "metadata": {},
   "outputs": [],
   "source": [
    "#3.3\n",
    "plt.hist(df[\"Review Score\"])\n",
    "plt.title('Histogram of Review Scores')\n",
    "plt.xlabel('Scores')\n",
    "plt.ylabel('Frequency')"
   ]
  },
  {
   "cell_type": "code",
   "execution_count": null,
   "metadata": {},
   "outputs": [],
   "source": [
    "#3.4\n",
    "p4 = df.groupby(\"Rating\").count()\n",
    "plt.bar(x=p4.index.values, height=p4.Title)\n",
    "plt.title('Distribution of Ratings')\n",
    "plt.xlabel('Rating')\n",
    "plt.ylabel('Count')"
   ]
  },
  {
   "cell_type": "code",
   "execution_count": null,
   "metadata": {},
   "outputs": [],
   "source": [
    "#3.5\n",
    "p5 = df.groupby([\"Publishers\"]).count()\n",
    "\n",
    "#count overall frequency of publishers\n",
    "temp = {}\n",
    "rows = p5.index.values\n",
    "for i in range(len(rows)):\n",
    "    string = rows[i].split(',')\n",
    "    count = p5.Title[i]\n",
    "    for j in string:\n",
    "        if j in temp.keys():\n",
    "            temp[j] = temp[j]+count\n",
    "        else:\n",
    "            temp[j] = count\n",
    "        \n",
    "p5 = temp\n",
    "\n",
    "plt.bar(x=p5.keys(), height=p5.values())\n",
    "plt.xticks(rotation=90)\n",
    "plt.title('Distribution of Publishers')\n",
    "plt.ylabel('Absolute Counts')\n"
   ]
  },
  {
   "cell_type": "markdown",
   "metadata": {},
   "source": [
    "## Problem 8\n",
    "### You are given a positive integer *N*.\n",
    "### Your task is to print a palindromic triangle of size *N*.\n",
    "### \n",
    "### For example, a palindromic triangle of size *5* is:\n",
    "### \n",
    "## 1\n",
    "## 121\n",
    "## 12321\n",
    "## 1234321\n",
    "## 123454321\n",
    "### \n",
    "### Note: You can't use string-related functions and you can only use one for-loop"
   ]
  },
  {
   "cell_type": "code",
   "execution_count": 78,
   "metadata": {},
   "outputs": [
    {
     "name": "stdout",
     "output_type": "stream",
     "text": [
      "1\n",
      "121\n",
      "12321\n",
      "1234321\n",
      "123454321\n"
     ]
    }
   ],
   "source": [
    "# Write your code for Problem 8 over here\n",
    "N = 5\n",
    "\n",
    "temp = 0\n",
    "for i in range(0,N):\n",
    "    temp = temp+10**i\n",
    "    print(temp**2)\n",
    "    "
   ]
  },
  {
   "cell_type": "markdown",
   "metadata": {},
   "source": [
    "## Problem 9\n",
    "### Given two lists. Create a third list by picking an odd-index element from the first list and even index elements from second."
   ]
  },
  {
   "cell_type": "code",
   "execution_count": null,
   "metadata": {},
   "outputs": [],
   "source": [
    "# Write your code for Problem 9 over here\n",
    "list1 = [11,12,13,14,15,16,17,18,19,20]\n",
    "list2 = [1,2,3,4,5,6,7,8,9,10]\n",
    "list3 = []\n",
    "\n",
    "for i in range(max(len(list1),len(list2))):\n",
    "    if i%2 == 0 and i < len(list2):\n",
    "        list3.append(list2[i])\n",
    "    elif i < len(list1):\n",
    "        list3.append(list1[i])\n",
    "        \n",
    "print(list3)"
   ]
  },
  {
   "cell_type": "markdown",
   "metadata": {},
   "source": [
    "## Problem 10\n",
    "### Given a list, count the occurrence of each element and create a dictionary to show the count of each element."
   ]
  },
  {
   "cell_type": "code",
   "execution_count": null,
   "metadata": {},
   "outputs": [],
   "source": [
    "# Write your code for Problem 10 over here\n",
    "l = [\"a\", \"a\", \"b\", \"c\", \"c\" , \"c\"]\n",
    "d = {}\n",
    "\n",
    "for i in range(len(l)):\n",
    "    if l[i] in list(d.keys()):\n",
    "        d[l[i]] = d[l[i]]+1\n",
    "    else:\n",
    "        d[l[i]] = 1\n",
    "\n",
    "print(d)"
   ]
  },
  {
   "cell_type": "markdown",
   "metadata": {},
   "source": [
    "## Problem 11\n",
    "### Given two lists, convert them into a dictionary. The first list will represent the \"keys\", and the second list will represent the \"values\""
   ]
  },
  {
   "cell_type": "code",
   "execution_count": null,
   "metadata": {},
   "outputs": [],
   "source": [
    "# Write your code for Problem 11 over here\n",
    "list1 = [\"a\", \"b\", \"c\", \"d\", \"e\" , \"f\"]\n",
    "list2 = [1, 2, 3, 4, 5, 6]\n",
    "d = {}\n",
    "\n",
    "for i in range(len(list1)):\n",
    "    d[list1[i]] = list2[i]\n",
    "    \n",
    "print(d)"
   ]
  },
  {
   "cell_type": "markdown",
   "metadata": {},
   "source": [
    "## Problem 12\n",
    "### Merge 2 dictionaries into 1 dictionary"
   ]
  },
  {
   "cell_type": "code",
   "execution_count": null,
   "metadata": {},
   "outputs": [],
   "source": [
    "# Write your code for Problem 12 over here\n",
    "d1 = {\"a\": 1, \"b\": 2, \"c\":3}\n",
    "d2 = {\"d\": 1, \"e\": 2, \"f\":3}\n",
    "\n",
    "for i in list(d2.keys()):\n",
    "    d1[i] = d2[i]\n",
    "    \n",
    "print(d1)"
   ]
  },
  {
   "cell_type": "markdown",
   "metadata": {},
   "source": [
    "## Problem 13\n",
    "### Using *numpy*, create a 4 by 2 integer array and print its attributes (the shape of the array and the array dimensions)"
   ]
  },
  {
   "cell_type": "code",
   "execution_count": null,
   "metadata": {},
   "outputs": [],
   "source": [
    "# Write your code for Problem 13 over here\n",
    "import numpy as np\n",
    "\n",
    "arr = np.array([[1,2,3,4], [1,2]])\n",
    "\n",
    "print(\"shape\", arr.shape)\n",
    "print(\"dimensions\", arr.ndim)"
   ]
  },
  {
   "cell_type": "markdown",
   "metadata": {},
   "source": [
    "# Problem 14 - Problem 25"
   ]
  },
  {
   "cell_type": "markdown",
   "metadata": {},
   "source": [
    "## Problem 14\n",
    "#### Create a Pandas Dataframe using the CSV file provided at this link: https://pynative.com/wp-content/uploads/2019/01/company_sales_data.csv\n",
    "#### Also, display the first 20 rows of the dataframe\n",
    "#### Note: Don't download the CSV File, and you can use either *matplotlib* or *seaborn* for these problems"
   ]
  },
  {
   "cell_type": "code",
   "execution_count": null,
   "metadata": {},
   "outputs": [],
   "source": [
    "# Write your code for Problem 14 over here\n",
    "df = pd.read_csv(\"https://pynative.com/wp-content/uploads/2019/01/company_sales_data.csv\")\n",
    "df.head(20)"
   ]
  },
  {
   "cell_type": "markdown",
   "metadata": {},
   "source": [
    "## Problem 15\n",
    "### Using a line plot, plot the Month (x-axis) against the Total Profit (y-axis)"
   ]
  },
  {
   "cell_type": "code",
   "execution_count": null,
   "metadata": {},
   "outputs": [],
   "source": [
    "# Write your code for Problem 15 over here\n",
    "plt.plot(\"month_number\", \"total_profit\", data=df)"
   ]
  },
  {
   "cell_type": "markdown",
   "metadata": {},
   "source": [
    "## Problem 16\n",
    "### Using a line plot, plot the Month (x-axis) against the Total Profit (y-axis) with the following style properties:\n",
    "* Dotted Red Line\n",
    "* The width of the line graph should be 3\n",
    "* Legend should be placed at the bottom right section of the graph\n",
    "* Add a label for the x-axis\n",
    "* Add a label for the y-axis\n",
    "* Add a title\n",
    "* Add a yellow circular marker at each point on the graph"
   ]
  },
  {
   "cell_type": "code",
   "execution_count": null,
   "metadata": {},
   "outputs": [],
   "source": [
    "# Write your code for Problem 16 over here\n",
    "plt.plot(\"month_number\", \"total_profit\", data=df, \n",
    "         linestyle=\"--\", c=\"red\", linewidth=3)\n",
    "plt.legend(bbox_to_anchor=(1.05,1), loc=\"lower right\")\n",
    "plt.title(\"Profit Per Month\")\n",
    "plt.xlabel(\"Month\")\n",
    "plt.ylabel(\"Total Profit\")\n",
    "plt.scatter(\"month_number\", \"total_profit\", data=df, marker=\"o\", c=\"yellow\")"
   ]
  },
  {
   "cell_type": "markdown",
   "metadata": {},
   "source": [
    "## Problem 17\n",
    "### Display the number of units sold per month for each product using multiline plots (must be on the same figure). Make sure that the plot for each product is a different color, and add a legend, title, and axis labels to the graph as well."
   ]
  },
  {
   "cell_type": "code",
   "execution_count": null,
   "metadata": {},
   "outputs": [],
   "source": [
    "# Write your code for Problem 17 over here\n",
    "plt.plot(\"month_number\", \"facecream\", data=df, c=\"red\")\n",
    "plt.plot(\"month_number\", \"facewash\", data=df, c=\"orange\")\n",
    "plt.plot(\"month_number\", \"toothpaste\", data=df, c=\"yellow\")\n",
    "plt.plot(\"month_number\", \"bathingsoap\", data=df, c=\"green\")\n",
    "plt.plot(\"month_number\", \"shampoo\", data=df, c=\"blue\")\n",
    "plt.plot(\"month_number\", \"moisturizer\", data=df, c=\"purple\")\n",
    "plt.legend(bbox_to_anchor=(1.05,1), loc=\"upper left\")\n",
    "plt.title(\"Units Sold Per Month for Each Product\")\n",
    "plt.xlabel(\"Month\")\n",
    "plt.ylabel(\"Units Sold\")"
   ]
  },
  {
   "cell_type": "markdown",
   "metadata": {},
   "source": [
    "## Problem 18\n",
    "### Plot the toothpaste sales data of each month using a scatter plot. Also, add a grid on the plot, the gridline style should be \"-\"."
   ]
  },
  {
   "cell_type": "code",
   "execution_count": null,
   "metadata": {},
   "outputs": [],
   "source": [
    "# Write your code for Problem 18 over here\n",
    "plt.scatter(\"month_number\", \"toothpaste\", data=df)\n",
    "plt.grid(linestyle=\"-\")"
   ]
  },
  {
   "cell_type": "markdown",
   "metadata": {},
   "source": [
    "## Problem 19\n",
    "### Plot the product sales data of face cream and facewash using a bar chart on the same plot."
   ]
  },
  {
   "cell_type": "code",
   "execution_count": null,
   "metadata": {},
   "outputs": [],
   "source": [
    "# Write your code for Problem 19 over here\n",
    "plt.bar(\"month_number\", \"facecream\", data=df, width=-0.4, align=\"edge\")\n",
    "plt.bar(\"month_number\", \"facewash\", data=df, width=0.4, align=\"edge\")\n",
    "plt.legend([\"facecream\", \"facewash\"], bbox_to_anchor=(1.05,1))"
   ]
  },
  {
   "cell_type": "markdown",
   "metadata": {},
   "source": [
    "## Problem 20\n",
    "### Plot the total profit of each month using a histogram"
   ]
  },
  {
   "cell_type": "code",
   "execution_count": null,
   "metadata": {},
   "outputs": [],
   "source": [
    "# Write your code for Problem 20 over here\n",
    "plt.hist(df.total_profit, 12)\n",
    "plt.title(\"Histogram of Total Profits\")\n",
    "plt.xlabel(\"Total Profit\")\n",
    "plt.ylabel(\"Frequency\")"
   ]
  },
  {
   "cell_type": "markdown",
   "metadata": {},
   "source": [
    "## Problem 21\n",
    "### Calculate the total sales data for last year for each product and show it using a pie chart. Make sure that the percentage of each slice on the pie chart is visible on the chart itself, and add a legend as well."
   ]
  },
  {
   "cell_type": "code",
   "execution_count": null,
   "metadata": {},
   "outputs": [],
   "source": [
    "# Write your code for Problem 21 over here\n",
    "fc = sum(df.facecream)\n",
    "fw = sum(df.facewash)\n",
    "tp = sum(df.toothpaste)\n",
    "bs = sum(df.bathingsoap)\n",
    "s = sum(df.shampoo)\n",
    "m = sum(df.moisturizer)\n",
    "total = sum(df.total_units)\n",
    "\n",
    "labels = 'Face Cream', 'Face Wash', 'Toothpaste', 'Bathing Soap', 'Shampoo', 'Moisturizer'\n",
    "sizes = [round(fc/total,2)*100, round(fw/total,2)*100, round(tp/total,2)*100, round(bs/total,2)*100, round(s/total,2)*100, round(m/total,2)*100]\n",
    "explode = (0,0,0,0,0,0)\n",
    "\n",
    "plt.pie(sizes, explode=explode, labels=labels, autopct='%1.1f%%')\n",
    "plt.axis('equal')\n",
    "plt.legend(bbox_to_anchor=(1.05,1), loc=\"upper left\")"
   ]
  },
  {
   "cell_type": "markdown",
   "metadata": {},
   "source": [
    "## Problem 22\n",
    "### Plot all of the product sales data using a stack plot."
   ]
  },
  {
   "cell_type": "code",
   "execution_count": null,
   "metadata": {},
   "outputs": [],
   "source": [
    "# Write your code for Problem 17 over here\n",
    "plt.bar(\"month_number\", \"facecream\", data=df, color=\"red\", bottom=0)\n",
    "plt.bar(\"month_number\", \"facewash\", data=df, color=\"orange\", \n",
    "        bottom=df.facecream)\n",
    "plt.bar(\"month_number\", \"toothpaste\", data=df, color=\"yellow\", \n",
    "        bottom=np.array(df.facecream)+np.array(df.facewash))\n",
    "plt.bar(\"month_number\", \"bathingsoap\", data=df, color=\"green\", \n",
    "        bottom=np.array(df.facecream)+np.array(df.facewash)+np.array(df.toothpaste))\n",
    "plt.bar(\"month_number\", \"shampoo\", data=df, color=\"blue\", \n",
    "        bottom=np.array(df.facecream)+np.array(df.facewash)+np.array(df.toothpaste)+np.array(df.bathingsoap))\n",
    "plt.bar(\"month_number\", \"moisturizer\", data=df, color=\"purple\", \n",
    "        bottom=np.array(df.facecream)+np.array(df.facewash)+np.array(df.toothpaste)+np.array(df.bathingsoap)+np.array(df.shampoo))\n",
    "plt.legend(labels, bbox_to_anchor=(1.05,1), loc=\"upper left\")\n",
    "plt.title(\"Units Sold Per Month for Each Product\")\n",
    "plt.xlabel(\"Month\")\n",
    "plt.ylabel(\"Units Sold\")"
   ]
  },
  {
   "cell_type": "code",
   "execution_count": null,
   "metadata": {},
   "outputs": [],
   "source": []
  }
 ],
 "metadata": {
  "kernelspec": {
   "display_name": "Python 3",
   "language": "python",
   "name": "python3"
  },
  "language_info": {
   "codemirror_mode": {
    "name": "ipython",
    "version": 3
   },
   "file_extension": ".py",
   "mimetype": "text/x-python",
   "name": "python",
   "nbconvert_exporter": "python",
   "pygments_lexer": "ipython3",
   "version": "3.7.6"
  }
 },
 "nbformat": 4,
 "nbformat_minor": 4
}
