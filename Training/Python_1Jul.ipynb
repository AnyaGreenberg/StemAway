{
 "cells": [
  {
   "cell_type": "markdown",
   "metadata": {},
   "source": [
    "# **Python Training Exercises/HW Problems**"
   ]
  },
  {
   "cell_type": "markdown",
   "metadata": {},
   "source": [
    "## Problem 1\n",
    "### You are given a string and your task is to swap cases. In other words, convert all lowercase letters to uppercase letters and vice versa."
   ]
  },
  {
   "cell_type": "code",
   "execution_count": 41,
   "metadata": {},
   "outputs": [],
   "source": [
    "def case_swap(string):\n",
    "    # Write your code for Problem 1 over here\n",
    "    result = \"\"\n",
    "    for i in range(len(string)):\n",
    "        if string[i].isupper():\n",
    "            result = result+string[i].lower()\n",
    "        elif string[i].islower():\n",
    "            result = result+string[i].upper()\n",
    "        else:\n",
    "            result = result+string[i]\n",
    "        \n",
    "    print(result)\n",
    "    return result"
   ]
  },
  {
   "cell_type": "code",
   "execution_count": 43,
   "metadata": {
    "tags": []
   },
   "outputs": [
    {
     "name": "stdout",
     "output_type": "stream",
     "text": [
      "ABCDEFGHIJKLMNOPQRSTUVWXYZ\n",
      "abcdefghijklmnopqrstuvwxyz\n",
      "AbCdEf\n",
      "HEY GUYS!\n",
      "stem-away\n",
      "0123456789\n",
      "!\"#$%&'()*+,-./:;<=>?@[\\]^_`{|}~\n",
      "Your function has passed all of the tests!\n"
     ]
    }
   ],
   "source": [
    "'''\n",
    "Don't modify this cell at all!! This cell is for you to run and check if your answer to Problem 1 is correct\n",
    "'''\n",
    "from string import ascii_lowercase, ascii_uppercase, digits, punctuation\n",
    "\n",
    "def testProblem1():\n",
    "    assert case_swap(ascii_lowercase) == ascii_uppercase, \"Your function is returning the incorrect output\"\n",
    "    assert case_swap(ascii_uppercase) == ascii_lowercase, \"Your function is returning the incorrect output\"\n",
    "    assert case_swap('aBcDeF') == 'AbCdEf', \"Your function is returning the incorrect output\"\n",
    "    assert case_swap('hey guys!') == 'HEY GUYS!', \"Your function is returning the incorrect output\"\n",
    "    assert case_swap('STEM-AWAY') == 'stem-away', \"Your function is returning the incorrect output\"\n",
    "    assert case_swap(digits) == digits, \"Your function is returning the incorrect output\"\n",
    "    assert case_swap(punctuation) == punctuation, \"Your function is returning the incorrect output\"\n",
    "    \n",
    "    print('Your function has passed all of the tests!')\n",
    "\n",
    "testProblem1()"
   ]
  },
  {
   "cell_type": "markdown",
   "metadata": {},
   "source": [
    "## Problem 2\n",
    "### Return the number of even integers in the given array."
   ]
  },
  {
   "cell_type": "code",
   "execution_count": 45,
   "metadata": {},
   "outputs": [],
   "source": [
    "def even_ints(nums):\n",
    "    # Write your code for Problem 2 over here\n",
    "    count = 0\n",
    "    for i in nums:\n",
    "        if i%2 == 0:\n",
    "            count = count+1\n",
    "    return count"
   ]
  },
  {
   "cell_type": "code",
   "execution_count": 46,
   "metadata": {
    "tags": []
   },
   "outputs": [
    {
     "name": "stdout",
     "output_type": "stream",
     "text": [
      "Your function has passed all of the tests!\n"
     ]
    }
   ],
   "source": [
    "'''\n",
    "Don't modify this cell at all!! This cell is for you to run and check if your answer to Problem 2 is correct\n",
    "'''\n",
    "def testProblem2():\n",
    "    assert even_ints([2, 1, 2, 3, 4]) == 3, \"Your function is returning the incorrect output\"\n",
    "    assert even_ints([2, 2, 0]) == 3, \"Your function is returning the incorrect output\"\n",
    "    assert even_ints([1, 3, 5]) == 0, \"Your function is returning the incorrect output\"\n",
    "    assert even_ints([]) == 0, \"Your function is returning the incorrect output\"\n",
    "    assert even_ints([11, 9, 0, 1]) == 1, \"Your function is returning the incorrect output\"\n",
    "    assert even_ints([2, 11, 9, 0]) == 2, \"Your function is returning the incorrect output\"\n",
    "    assert even_ints([2]) == 1, \"Your function is returning the incorrect output\"\n",
    "    assert even_ints([2, 5, 12]) == 2, \"Your function is returning the incorrect output\"\n",
    "    \n",
    "    print('Your function has passed all of the tests!')\n",
    "\n",
    "testProblem2()"
   ]
  },
  {
   "cell_type": "markdown",
   "metadata": {},
   "source": [
    "## Problem 3\n",
    "### Given an array of ints, return True if the array contains a 2 next to a 2 somewhere."
   ]
  },
  {
   "cell_type": "code",
   "execution_count": 51,
   "metadata": {},
   "outputs": [],
   "source": [
    "def two_neighbors(nums):\n",
    "    # Write your code for Problem 3 over here\n",
    "    for i in range(len(nums)-1):\n",
    "        if nums[i] == 2 and nums[i+1] == 2:\n",
    "            return True\n",
    "    return False"
   ]
  },
  {
   "cell_type": "code",
   "execution_count": 55,
   "metadata": {
    "tags": []
   },
   "outputs": [
    {
     "name": "stdout",
     "output_type": "stream",
     "text": [
      "Your function has passed all of the tests!\n"
     ]
    }
   ],
   "source": [
    "'''\n",
    "Don't modify this cell at all!! This cell is for you to run and check if your answer to Problem 3 is correct\n",
    "'''\n",
    "def testProblem3():\n",
    "    assert two_neighbors([1, 2, 2]) == True, \"Your function is returning the incorrect output\"\n",
    "    assert two_neighbors([2, 0, 2]) == False, \"Your function is returning the incorrect output\"\n",
    "    assert two_neighbors([4, 5, 6]) == False, \"Your function is returning the incorrect output\"\n",
    "    assert two_neighbors([2, 2, 2]) == True, \"Your function is returning the incorrect output\"\n",
    "    \n",
    "    print('Your function has passed all of the tests!')\n",
    "    \n",
    "testProblem3()"
   ]
  },
  {
   "cell_type": "markdown",
   "metadata": {},
   "source": [
    "## Problem 4\n",
    "### Write a function in Python that implements the following logic: The squirrels in Palo Alto spend most of the day playing. In particular, they play if the temperature is between 60 and 90 (inclusive). Unless it is summer, then the upper limit is 100 instead of 90. Given an integer *temperature* and a Boolean *isSummer*, return *True* if the squirrels play and *False* otherwise."
   ]
  },
  {
   "cell_type": "code",
   "execution_count": 57,
   "metadata": {},
   "outputs": [],
   "source": [
    "def squirrelPlay(temperature, isSummer):\n",
    "    # Write your code for Problem 4 over here\n",
    "    if isSummer and temperature <= 100 and temperature >= 60:\n",
    "        return True\n",
    "    elif not isSummer and temperature <= 90 and temperature >= 60:\n",
    "        return True\n",
    "    return False"
   ]
  },
  {
   "cell_type": "code",
   "execution_count": 58,
   "metadata": {
    "tags": []
   },
   "outputs": [
    {
     "name": "stdout",
     "output_type": "stream",
     "text": [
      "Your function has passed all of the tests!\n"
     ]
    }
   ],
   "source": [
    "'''\n",
    "Don't modify this cell at all!! This cell is for you to run and check if your answer to Problem 4 is correct\n",
    "'''\n",
    "def testProblem4():\n",
    "    assert squirrelPlay(70, False) == True, \"Your function is returning the incorrect output\"\n",
    "    assert squirrelPlay(95, False) == False, \"Your function is returning the incorrect output\"\n",
    "    assert squirrelPlay(95, True) == True, \"Your function is returning the incorrect output\"\n",
    "    assert squirrelPlay(90, False) == True, \"Your function is returning the incorrect output\"\n",
    "    assert squirrelPlay(90, True) == True, \"Your function is returning the incorrect output\"\n",
    "    assert squirrelPlay(50, False) == False, \"Your function is returning the incorrect output\"\n",
    "    assert squirrelPlay(50, True) == False, \"Your function is returning the incorrect output\"\n",
    "    assert squirrelPlay(100, False) == False, \"Your function is returning the incorrect output\"\n",
    "    assert squirrelPlay(100, True) == True, \"Your function is returning the incorrect output\"\n",
    "    assert squirrelPlay(105, True) == False, \"Your function is returning the incorrect output\"\n",
    "    assert squirrelPlay(59, False) == False, \"Your function is returning the incorrect output\"\n",
    "    assert squirrelPlay(59, True) == False, \"Your function is returning the incorrect output\"\n",
    "    assert squirrelPlay(60, False) == True, \"Your function is returning the incorrect output\"\n",
    "\n",
    "    \n",
    "    print('Your function has passed all of the tests!')\n",
    "    \n",
    "testProblem4()"
   ]
  },
  {
   "cell_type": "markdown",
   "metadata": {},
   "source": [
    "## Problem 5\n",
    "### Given a string, consider the prefix string made of the first *N* chars of the string. Does that prefix string appear somewhere else in the string? Assume that the string is not empty and that *N* is in the range *1..str.length()*."
   ]
  },
  {
   "cell_type": "code",
   "execution_count": 163,
   "metadata": {},
   "outputs": [],
   "source": [
    "def prefixAgain(string, n):\n",
    "    # Write your code for Problem 5 over here\n",
    "    prefix = string[:n]\n",
    "    counter = 0 \n",
    "    \n",
    "    for i in range(1,len(string)):\n",
    "        if string[i] == prefix[0] and i <= len(string)-n:\n",
    "            counter = 0\n",
    "            for j in range(len(prefix)):\n",
    "                if prefix[j] == string[i+j]:\n",
    "                    counter = counter+1\n",
    "                    \n",
    "    return counter == n"
   ]
  },
  {
   "cell_type": "code",
   "execution_count": 164,
   "metadata": {
    "tags": []
   },
   "outputs": [
    {
     "name": "stdout",
     "output_type": "stream",
     "text": [
      "Your function has passed all of the tests!\n"
     ]
    }
   ],
   "source": [
    "'''\n",
    "Don't modify this cell at all!! This cell is for you to run and check if your answer to Problem 5 is correct\n",
    "'''\n",
    "def testProblem5():\n",
    "    assert prefixAgain(\"abXYabc\", 1) == True, \"Your function is returning the incorrect output\"\n",
    "    assert prefixAgain(\"abXYabc\", 2)  == True, \"Your function is returning the incorrect output\"\n",
    "    assert prefixAgain(\"abXYabc\", 3) == False, \"Your function is returning the incorrect output\"\n",
    "    assert prefixAgain(\"xyzxyxyxy\", 2) == True, \"Your function is returning the incorrect output\"\n",
    "    assert prefixAgain(\"xyzxyxyxy\", 3) == False, \"Your function is returning the incorrect output\"\n",
    "    assert prefixAgain(\"Hi12345Hi6789Hi10\", 1) == True, \"Your function is returning the incorrect output\"\n",
    "    assert prefixAgain(\"Hi12345Hi6789Hi10\", 2) == True, \"Your function is returning the incorrect output\"\n",
    "    assert prefixAgain(\"Hi12345Hi6789Hi10\", 4) == False, \"Your function is returning the incorrect output\"\n",
    "    assert prefixAgain(\"Hi12345Hi6789Hi10\", 3) == True, \"Your function is returning the incorrect output\"\n",
    "    assert prefixAgain(\"a\", 1) == False, \"Your function is returning the incorrect output\"\n",
    "    assert prefixAgain(\"aa\", 1) == True, \"Your function is returning the incorrect output\"\n",
    "    assert prefixAgain(\"ab\", 1) == False, \"Your function is returning the incorrect output\"\n",
    "\n",
    "    \n",
    "    print('Your function has passed all of the tests!')\n",
    "    \n",
    "testProblem5()"
   ]
  },
  {
   "cell_type": "markdown",
   "metadata": {},
   "source": [
    "## Problem 6\n",
    "1. Download the CSV file from the following website: https://www.kaggle.com/dgomonov/new-york-city-airbnb-open-data.\n",
    "2. Create a Pandas Dataframe of the dataset and display the first 10 rows of the Pandas Dataframe.\n",
    "3. Filter through the dataset and clean it.\n",
    "4. Create a Pandas Dataframe of the dataset after cleaning it and display the first 10 rows of the Pandas Dataframe.\n",
    "5. Use ***seaborn*** and plot *2* different graphs using the preprocessed dataset."
   ]
  },
  {
   "cell_type": "code",
   "execution_count": 210,
   "metadata": {},
   "outputs": [
    {
     "data": {
      "text/html": [
       "<div>\n",
       "<style scoped>\n",
       "    .dataframe tbody tr th:only-of-type {\n",
       "        vertical-align: middle;\n",
       "    }\n",
       "\n",
       "    .dataframe tbody tr th {\n",
       "        vertical-align: top;\n",
       "    }\n",
       "\n",
       "    .dataframe thead th {\n",
       "        text-align: right;\n",
       "    }\n",
       "</style>\n",
       "<table border=\"1\" class=\"dataframe\">\n",
       "  <thead>\n",
       "    <tr style=\"text-align: right;\">\n",
       "      <th></th>\n",
       "      <th>id</th>\n",
       "      <th>name</th>\n",
       "      <th>host_id</th>\n",
       "      <th>host_name</th>\n",
       "      <th>neighbourhood_group</th>\n",
       "      <th>neighbourhood</th>\n",
       "      <th>latitude</th>\n",
       "      <th>longitude</th>\n",
       "      <th>room_type</th>\n",
       "      <th>price</th>\n",
       "      <th>minimum_nights</th>\n",
       "      <th>number_of_reviews</th>\n",
       "      <th>last_review</th>\n",
       "      <th>reviews_per_month</th>\n",
       "      <th>calculated_host_listings_count</th>\n",
       "      <th>availability_365</th>\n",
       "    </tr>\n",
       "  </thead>\n",
       "  <tbody>\n",
       "    <tr>\n",
       "      <th>0</th>\n",
       "      <td>2539</td>\n",
       "      <td>Clean &amp; quiet apt home by the park</td>\n",
       "      <td>2787</td>\n",
       "      <td>John</td>\n",
       "      <td>Brooklyn</td>\n",
       "      <td>Kensington</td>\n",
       "      <td>40.64749</td>\n",
       "      <td>-73.97237</td>\n",
       "      <td>Private room</td>\n",
       "      <td>149</td>\n",
       "      <td>1</td>\n",
       "      <td>9</td>\n",
       "      <td>2018-10-19</td>\n",
       "      <td>0.21</td>\n",
       "      <td>6</td>\n",
       "      <td>365</td>\n",
       "    </tr>\n",
       "    <tr>\n",
       "      <th>1</th>\n",
       "      <td>2595</td>\n",
       "      <td>Skylit Midtown Castle</td>\n",
       "      <td>2845</td>\n",
       "      <td>Jennifer</td>\n",
       "      <td>Manhattan</td>\n",
       "      <td>Midtown</td>\n",
       "      <td>40.75362</td>\n",
       "      <td>-73.98377</td>\n",
       "      <td>Entire home/apt</td>\n",
       "      <td>225</td>\n",
       "      <td>1</td>\n",
       "      <td>45</td>\n",
       "      <td>2019-05-21</td>\n",
       "      <td>0.38</td>\n",
       "      <td>2</td>\n",
       "      <td>355</td>\n",
       "    </tr>\n",
       "    <tr>\n",
       "      <th>2</th>\n",
       "      <td>3647</td>\n",
       "      <td>THE VILLAGE OF HARLEM....NEW YORK !</td>\n",
       "      <td>4632</td>\n",
       "      <td>Elisabeth</td>\n",
       "      <td>Manhattan</td>\n",
       "      <td>Harlem</td>\n",
       "      <td>40.80902</td>\n",
       "      <td>-73.94190</td>\n",
       "      <td>Private room</td>\n",
       "      <td>150</td>\n",
       "      <td>3</td>\n",
       "      <td>0</td>\n",
       "      <td>NaN</td>\n",
       "      <td>NaN</td>\n",
       "      <td>1</td>\n",
       "      <td>365</td>\n",
       "    </tr>\n",
       "    <tr>\n",
       "      <th>3</th>\n",
       "      <td>3831</td>\n",
       "      <td>Cozy Entire Floor of Brownstone</td>\n",
       "      <td>4869</td>\n",
       "      <td>LisaRoxanne</td>\n",
       "      <td>Brooklyn</td>\n",
       "      <td>Clinton Hill</td>\n",
       "      <td>40.68514</td>\n",
       "      <td>-73.95976</td>\n",
       "      <td>Entire home/apt</td>\n",
       "      <td>89</td>\n",
       "      <td>1</td>\n",
       "      <td>270</td>\n",
       "      <td>2019-07-05</td>\n",
       "      <td>4.64</td>\n",
       "      <td>1</td>\n",
       "      <td>194</td>\n",
       "    </tr>\n",
       "    <tr>\n",
       "      <th>4</th>\n",
       "      <td>5022</td>\n",
       "      <td>Entire Apt: Spacious Studio/Loft by central park</td>\n",
       "      <td>7192</td>\n",
       "      <td>Laura</td>\n",
       "      <td>Manhattan</td>\n",
       "      <td>East Harlem</td>\n",
       "      <td>40.79851</td>\n",
       "      <td>-73.94399</td>\n",
       "      <td>Entire home/apt</td>\n",
       "      <td>80</td>\n",
       "      <td>10</td>\n",
       "      <td>9</td>\n",
       "      <td>2018-11-19</td>\n",
       "      <td>0.10</td>\n",
       "      <td>1</td>\n",
       "      <td>0</td>\n",
       "    </tr>\n",
       "    <tr>\n",
       "      <th>5</th>\n",
       "      <td>5099</td>\n",
       "      <td>Large Cozy 1 BR Apartment In Midtown East</td>\n",
       "      <td>7322</td>\n",
       "      <td>Chris</td>\n",
       "      <td>Manhattan</td>\n",
       "      <td>Murray Hill</td>\n",
       "      <td>40.74767</td>\n",
       "      <td>-73.97500</td>\n",
       "      <td>Entire home/apt</td>\n",
       "      <td>200</td>\n",
       "      <td>3</td>\n",
       "      <td>74</td>\n",
       "      <td>2019-06-22</td>\n",
       "      <td>0.59</td>\n",
       "      <td>1</td>\n",
       "      <td>129</td>\n",
       "    </tr>\n",
       "    <tr>\n",
       "      <th>6</th>\n",
       "      <td>5121</td>\n",
       "      <td>BlissArtsSpace!</td>\n",
       "      <td>7356</td>\n",
       "      <td>Garon</td>\n",
       "      <td>Brooklyn</td>\n",
       "      <td>Bedford-Stuyvesant</td>\n",
       "      <td>40.68688</td>\n",
       "      <td>-73.95596</td>\n",
       "      <td>Private room</td>\n",
       "      <td>60</td>\n",
       "      <td>45</td>\n",
       "      <td>49</td>\n",
       "      <td>2017-10-05</td>\n",
       "      <td>0.40</td>\n",
       "      <td>1</td>\n",
       "      <td>0</td>\n",
       "    </tr>\n",
       "    <tr>\n",
       "      <th>7</th>\n",
       "      <td>5178</td>\n",
       "      <td>Large Furnished Room Near B'way</td>\n",
       "      <td>8967</td>\n",
       "      <td>Shunichi</td>\n",
       "      <td>Manhattan</td>\n",
       "      <td>Hell's Kitchen</td>\n",
       "      <td>40.76489</td>\n",
       "      <td>-73.98493</td>\n",
       "      <td>Private room</td>\n",
       "      <td>79</td>\n",
       "      <td>2</td>\n",
       "      <td>430</td>\n",
       "      <td>2019-06-24</td>\n",
       "      <td>3.47</td>\n",
       "      <td>1</td>\n",
       "      <td>220</td>\n",
       "    </tr>\n",
       "    <tr>\n",
       "      <th>8</th>\n",
       "      <td>5203</td>\n",
       "      <td>Cozy Clean Guest Room - Family Apt</td>\n",
       "      <td>7490</td>\n",
       "      <td>MaryEllen</td>\n",
       "      <td>Manhattan</td>\n",
       "      <td>Upper West Side</td>\n",
       "      <td>40.80178</td>\n",
       "      <td>-73.96723</td>\n",
       "      <td>Private room</td>\n",
       "      <td>79</td>\n",
       "      <td>2</td>\n",
       "      <td>118</td>\n",
       "      <td>2017-07-21</td>\n",
       "      <td>0.99</td>\n",
       "      <td>1</td>\n",
       "      <td>0</td>\n",
       "    </tr>\n",
       "    <tr>\n",
       "      <th>9</th>\n",
       "      <td>5238</td>\n",
       "      <td>Cute &amp; Cozy Lower East Side 1 bdrm</td>\n",
       "      <td>7549</td>\n",
       "      <td>Ben</td>\n",
       "      <td>Manhattan</td>\n",
       "      <td>Chinatown</td>\n",
       "      <td>40.71344</td>\n",
       "      <td>-73.99037</td>\n",
       "      <td>Entire home/apt</td>\n",
       "      <td>150</td>\n",
       "      <td>1</td>\n",
       "      <td>160</td>\n",
       "      <td>2019-06-09</td>\n",
       "      <td>1.33</td>\n",
       "      <td>4</td>\n",
       "      <td>188</td>\n",
       "    </tr>\n",
       "  </tbody>\n",
       "</table>\n",
       "</div>"
      ],
      "text/plain": [
       "     id                                              name  host_id  \\\n",
       "0  2539                Clean & quiet apt home by the park     2787   \n",
       "1  2595                             Skylit Midtown Castle     2845   \n",
       "2  3647               THE VILLAGE OF HARLEM....NEW YORK !     4632   \n",
       "3  3831                   Cozy Entire Floor of Brownstone     4869   \n",
       "4  5022  Entire Apt: Spacious Studio/Loft by central park     7192   \n",
       "5  5099         Large Cozy 1 BR Apartment In Midtown East     7322   \n",
       "6  5121                                   BlissArtsSpace!     7356   \n",
       "7  5178                  Large Furnished Room Near B'way      8967   \n",
       "8  5203                Cozy Clean Guest Room - Family Apt     7490   \n",
       "9  5238                Cute & Cozy Lower East Side 1 bdrm     7549   \n",
       "\n",
       "     host_name neighbourhood_group       neighbourhood  latitude  longitude  \\\n",
       "0         John            Brooklyn          Kensington  40.64749  -73.97237   \n",
       "1     Jennifer           Manhattan             Midtown  40.75362  -73.98377   \n",
       "2    Elisabeth           Manhattan              Harlem  40.80902  -73.94190   \n",
       "3  LisaRoxanne            Brooklyn        Clinton Hill  40.68514  -73.95976   \n",
       "4        Laura           Manhattan         East Harlem  40.79851  -73.94399   \n",
       "5        Chris           Manhattan         Murray Hill  40.74767  -73.97500   \n",
       "6        Garon            Brooklyn  Bedford-Stuyvesant  40.68688  -73.95596   \n",
       "7     Shunichi           Manhattan      Hell's Kitchen  40.76489  -73.98493   \n",
       "8    MaryEllen           Manhattan     Upper West Side  40.80178  -73.96723   \n",
       "9          Ben           Manhattan           Chinatown  40.71344  -73.99037   \n",
       "\n",
       "         room_type  price  minimum_nights  number_of_reviews last_review  \\\n",
       "0     Private room    149               1                  9  2018-10-19   \n",
       "1  Entire home/apt    225               1                 45  2019-05-21   \n",
       "2     Private room    150               3                  0         NaN   \n",
       "3  Entire home/apt     89               1                270  2019-07-05   \n",
       "4  Entire home/apt     80              10                  9  2018-11-19   \n",
       "5  Entire home/apt    200               3                 74  2019-06-22   \n",
       "6     Private room     60              45                 49  2017-10-05   \n",
       "7     Private room     79               2                430  2019-06-24   \n",
       "8     Private room     79               2                118  2017-07-21   \n",
       "9  Entire home/apt    150               1                160  2019-06-09   \n",
       "\n",
       "   reviews_per_month  calculated_host_listings_count  availability_365  \n",
       "0               0.21                               6               365  \n",
       "1               0.38                               2               355  \n",
       "2                NaN                               1               365  \n",
       "3               4.64                               1               194  \n",
       "4               0.10                               1                 0  \n",
       "5               0.59                               1               129  \n",
       "6               0.40                               1                 0  \n",
       "7               3.47                               1               220  \n",
       "8               0.99                               1                 0  \n",
       "9               1.33                               4               188  "
      ]
     },
     "execution_count": 210,
     "metadata": {},
     "output_type": "execute_result"
    }
   ],
   "source": [
    "# Write your code for Problem 6 over here\n",
    "import pandas as pd\n",
    "import seaborn as sns\n",
    "import matplotlib.pyplot as plt\n",
    "\n",
    "#2\n",
    "data = pd.read_csv(\"C:/Users/durbe/Documents/repositories/StemAway/Training/datasets/AB_NYC_2019.csv\")\n",
    "data.head(10)"
   ]
  },
  {
   "cell_type": "code",
   "execution_count": 211,
   "metadata": {},
   "outputs": [
    {
     "data": {
      "text/html": [
       "<div>\n",
       "<style scoped>\n",
       "    .dataframe tbody tr th:only-of-type {\n",
       "        vertical-align: middle;\n",
       "    }\n",
       "\n",
       "    .dataframe tbody tr th {\n",
       "        vertical-align: top;\n",
       "    }\n",
       "\n",
       "    .dataframe thead th {\n",
       "        text-align: right;\n",
       "    }\n",
       "</style>\n",
       "<table border=\"1\" class=\"dataframe\">\n",
       "  <thead>\n",
       "    <tr style=\"text-align: right;\">\n",
       "      <th></th>\n",
       "      <th>id</th>\n",
       "      <th>name</th>\n",
       "      <th>host_id</th>\n",
       "      <th>host_name</th>\n",
       "      <th>neighbourhood_group</th>\n",
       "      <th>neighbourhood</th>\n",
       "      <th>latitude</th>\n",
       "      <th>longitude</th>\n",
       "      <th>room_type</th>\n",
       "      <th>price</th>\n",
       "      <th>minimum_nights</th>\n",
       "      <th>number_of_reviews</th>\n",
       "      <th>last_review</th>\n",
       "      <th>reviews_per_month</th>\n",
       "      <th>calculated_host_listings_count</th>\n",
       "      <th>availability_365</th>\n",
       "    </tr>\n",
       "  </thead>\n",
       "  <tbody>\n",
       "    <tr>\n",
       "      <th>0</th>\n",
       "      <td>2539</td>\n",
       "      <td>Clean &amp; quiet apt home by the park</td>\n",
       "      <td>2787</td>\n",
       "      <td>John</td>\n",
       "      <td>Brooklyn</td>\n",
       "      <td>Kensington</td>\n",
       "      <td>40.64749</td>\n",
       "      <td>-73.97237</td>\n",
       "      <td>Private room</td>\n",
       "      <td>149</td>\n",
       "      <td>1</td>\n",
       "      <td>9</td>\n",
       "      <td>2018-10-19</td>\n",
       "      <td>0.21</td>\n",
       "      <td>6</td>\n",
       "      <td>365</td>\n",
       "    </tr>\n",
       "    <tr>\n",
       "      <th>1</th>\n",
       "      <td>2595</td>\n",
       "      <td>Skylit Midtown Castle</td>\n",
       "      <td>2845</td>\n",
       "      <td>Jennifer</td>\n",
       "      <td>Manhattan</td>\n",
       "      <td>Midtown</td>\n",
       "      <td>40.75362</td>\n",
       "      <td>-73.98377</td>\n",
       "      <td>Entire home/apt</td>\n",
       "      <td>225</td>\n",
       "      <td>1</td>\n",
       "      <td>45</td>\n",
       "      <td>2019-05-21</td>\n",
       "      <td>0.38</td>\n",
       "      <td>2</td>\n",
       "      <td>355</td>\n",
       "    </tr>\n",
       "    <tr>\n",
       "      <th>3</th>\n",
       "      <td>3831</td>\n",
       "      <td>Cozy Entire Floor of Brownstone</td>\n",
       "      <td>4869</td>\n",
       "      <td>LisaRoxanne</td>\n",
       "      <td>Brooklyn</td>\n",
       "      <td>Clinton Hill</td>\n",
       "      <td>40.68514</td>\n",
       "      <td>-73.95976</td>\n",
       "      <td>Entire home/apt</td>\n",
       "      <td>89</td>\n",
       "      <td>1</td>\n",
       "      <td>270</td>\n",
       "      <td>2019-07-05</td>\n",
       "      <td>4.64</td>\n",
       "      <td>1</td>\n",
       "      <td>194</td>\n",
       "    </tr>\n",
       "    <tr>\n",
       "      <th>4</th>\n",
       "      <td>5022</td>\n",
       "      <td>Entire Apt: Spacious Studio/Loft by central park</td>\n",
       "      <td>7192</td>\n",
       "      <td>Laura</td>\n",
       "      <td>Manhattan</td>\n",
       "      <td>East Harlem</td>\n",
       "      <td>40.79851</td>\n",
       "      <td>-73.94399</td>\n",
       "      <td>Entire home/apt</td>\n",
       "      <td>80</td>\n",
       "      <td>10</td>\n",
       "      <td>9</td>\n",
       "      <td>2018-11-19</td>\n",
       "      <td>0.10</td>\n",
       "      <td>1</td>\n",
       "      <td>0</td>\n",
       "    </tr>\n",
       "    <tr>\n",
       "      <th>5</th>\n",
       "      <td>5099</td>\n",
       "      <td>Large Cozy 1 BR Apartment In Midtown East</td>\n",
       "      <td>7322</td>\n",
       "      <td>Chris</td>\n",
       "      <td>Manhattan</td>\n",
       "      <td>Murray Hill</td>\n",
       "      <td>40.74767</td>\n",
       "      <td>-73.97500</td>\n",
       "      <td>Entire home/apt</td>\n",
       "      <td>200</td>\n",
       "      <td>3</td>\n",
       "      <td>74</td>\n",
       "      <td>2019-06-22</td>\n",
       "      <td>0.59</td>\n",
       "      <td>1</td>\n",
       "      <td>129</td>\n",
       "    </tr>\n",
       "    <tr>\n",
       "      <th>6</th>\n",
       "      <td>5121</td>\n",
       "      <td>BlissArtsSpace!</td>\n",
       "      <td>7356</td>\n",
       "      <td>Garon</td>\n",
       "      <td>Brooklyn</td>\n",
       "      <td>Bedford-Stuyvesant</td>\n",
       "      <td>40.68688</td>\n",
       "      <td>-73.95596</td>\n",
       "      <td>Private room</td>\n",
       "      <td>60</td>\n",
       "      <td>45</td>\n",
       "      <td>49</td>\n",
       "      <td>2017-10-05</td>\n",
       "      <td>0.40</td>\n",
       "      <td>1</td>\n",
       "      <td>0</td>\n",
       "    </tr>\n",
       "    <tr>\n",
       "      <th>7</th>\n",
       "      <td>5178</td>\n",
       "      <td>Large Furnished Room Near B'way</td>\n",
       "      <td>8967</td>\n",
       "      <td>Shunichi</td>\n",
       "      <td>Manhattan</td>\n",
       "      <td>Hell's Kitchen</td>\n",
       "      <td>40.76489</td>\n",
       "      <td>-73.98493</td>\n",
       "      <td>Private room</td>\n",
       "      <td>79</td>\n",
       "      <td>2</td>\n",
       "      <td>430</td>\n",
       "      <td>2019-06-24</td>\n",
       "      <td>3.47</td>\n",
       "      <td>1</td>\n",
       "      <td>220</td>\n",
       "    </tr>\n",
       "    <tr>\n",
       "      <th>8</th>\n",
       "      <td>5203</td>\n",
       "      <td>Cozy Clean Guest Room - Family Apt</td>\n",
       "      <td>7490</td>\n",
       "      <td>MaryEllen</td>\n",
       "      <td>Manhattan</td>\n",
       "      <td>Upper West Side</td>\n",
       "      <td>40.80178</td>\n",
       "      <td>-73.96723</td>\n",
       "      <td>Private room</td>\n",
       "      <td>79</td>\n",
       "      <td>2</td>\n",
       "      <td>118</td>\n",
       "      <td>2017-07-21</td>\n",
       "      <td>0.99</td>\n",
       "      <td>1</td>\n",
       "      <td>0</td>\n",
       "    </tr>\n",
       "    <tr>\n",
       "      <th>9</th>\n",
       "      <td>5238</td>\n",
       "      <td>Cute &amp; Cozy Lower East Side 1 bdrm</td>\n",
       "      <td>7549</td>\n",
       "      <td>Ben</td>\n",
       "      <td>Manhattan</td>\n",
       "      <td>Chinatown</td>\n",
       "      <td>40.71344</td>\n",
       "      <td>-73.99037</td>\n",
       "      <td>Entire home/apt</td>\n",
       "      <td>150</td>\n",
       "      <td>1</td>\n",
       "      <td>160</td>\n",
       "      <td>2019-06-09</td>\n",
       "      <td>1.33</td>\n",
       "      <td>4</td>\n",
       "      <td>188</td>\n",
       "    </tr>\n",
       "    <tr>\n",
       "      <th>10</th>\n",
       "      <td>5295</td>\n",
       "      <td>Beautiful 1br on Upper West Side</td>\n",
       "      <td>7702</td>\n",
       "      <td>Lena</td>\n",
       "      <td>Manhattan</td>\n",
       "      <td>Upper West Side</td>\n",
       "      <td>40.80316</td>\n",
       "      <td>-73.96545</td>\n",
       "      <td>Entire home/apt</td>\n",
       "      <td>135</td>\n",
       "      <td>5</td>\n",
       "      <td>53</td>\n",
       "      <td>2019-06-22</td>\n",
       "      <td>0.43</td>\n",
       "      <td>1</td>\n",
       "      <td>6</td>\n",
       "    </tr>\n",
       "  </tbody>\n",
       "</table>\n",
       "</div>"
      ],
      "text/plain": [
       "      id                                              name  host_id  \\\n",
       "0   2539                Clean & quiet apt home by the park     2787   \n",
       "1   2595                             Skylit Midtown Castle     2845   \n",
       "3   3831                   Cozy Entire Floor of Brownstone     4869   \n",
       "4   5022  Entire Apt: Spacious Studio/Loft by central park     7192   \n",
       "5   5099         Large Cozy 1 BR Apartment In Midtown East     7322   \n",
       "6   5121                                   BlissArtsSpace!     7356   \n",
       "7   5178                  Large Furnished Room Near B'way      8967   \n",
       "8   5203                Cozy Clean Guest Room - Family Apt     7490   \n",
       "9   5238                Cute & Cozy Lower East Side 1 bdrm     7549   \n",
       "10  5295                  Beautiful 1br on Upper West Side     7702   \n",
       "\n",
       "      host_name neighbourhood_group       neighbourhood  latitude  longitude  \\\n",
       "0          John            Brooklyn          Kensington  40.64749  -73.97237   \n",
       "1      Jennifer           Manhattan             Midtown  40.75362  -73.98377   \n",
       "3   LisaRoxanne            Brooklyn        Clinton Hill  40.68514  -73.95976   \n",
       "4         Laura           Manhattan         East Harlem  40.79851  -73.94399   \n",
       "5         Chris           Manhattan         Murray Hill  40.74767  -73.97500   \n",
       "6         Garon            Brooklyn  Bedford-Stuyvesant  40.68688  -73.95596   \n",
       "7      Shunichi           Manhattan      Hell's Kitchen  40.76489  -73.98493   \n",
       "8     MaryEllen           Manhattan     Upper West Side  40.80178  -73.96723   \n",
       "9           Ben           Manhattan           Chinatown  40.71344  -73.99037   \n",
       "10         Lena           Manhattan     Upper West Side  40.80316  -73.96545   \n",
       "\n",
       "          room_type  price  minimum_nights  number_of_reviews last_review  \\\n",
       "0      Private room    149               1                  9  2018-10-19   \n",
       "1   Entire home/apt    225               1                 45  2019-05-21   \n",
       "3   Entire home/apt     89               1                270  2019-07-05   \n",
       "4   Entire home/apt     80              10                  9  2018-11-19   \n",
       "5   Entire home/apt    200               3                 74  2019-06-22   \n",
       "6      Private room     60              45                 49  2017-10-05   \n",
       "7      Private room     79               2                430  2019-06-24   \n",
       "8      Private room     79               2                118  2017-07-21   \n",
       "9   Entire home/apt    150               1                160  2019-06-09   \n",
       "10  Entire home/apt    135               5                 53  2019-06-22   \n",
       "\n",
       "    reviews_per_month  calculated_host_listings_count  availability_365  \n",
       "0                0.21                               6               365  \n",
       "1                0.38                               2               355  \n",
       "3                4.64                               1               194  \n",
       "4                0.10                               1                 0  \n",
       "5                0.59                               1               129  \n",
       "6                0.40                               1                 0  \n",
       "7                3.47                               1               220  \n",
       "8                0.99                               1                 0  \n",
       "9                1.33                               4               188  \n",
       "10               0.43                               1                 6  "
      ]
     },
     "execution_count": 211,
     "metadata": {},
     "output_type": "execute_result"
    }
   ],
   "source": [
    "#3 - Filter through the dataset and clean it.\n",
    "data = data.dropna()\n",
    "\n",
    "#4\n",
    "data.head(10)"
   ]
  },
  {
   "cell_type": "code",
   "execution_count": 241,
   "metadata": {},
   "outputs": [
    {
     "data": {
      "text/plain": [
       "<seaborn.axisgrid.FacetGrid at 0x26b47430888>"
      ]
     },
     "execution_count": 241,
     "metadata": {},
     "output_type": "execute_result"
    },
    {
     "data": {
      "image/png": "[encoded data removed]",
      "text/plain": [
       "<Figure size 1080x360 with 3 Axes>"
      ]
     },
     "metadata": {
      "needs_background": "light"
     },
     "output_type": "display_data"
    }
   ],
   "source": [
    "df = data[data[\"price\"] < 500]\n",
    "sns.catplot(x=\"neighbourhood_group\", y=\"price\", col=\"room_type\", data=df)"
   ]
  },
  {
   "cell_type": "code",
   "execution_count": 242,
   "metadata": {},
   "outputs": [
    {
     "ename": "AttributeError",
     "evalue": "'FacetGrid' object has no attribute 'set_title'",
     "output_type": "error",
     "traceback": [
      "\u001b[1;31m---------------------------------------------------------------------------\u001b[0m",
      "\u001b[1;31mAttributeError\u001b[0m                            Traceback (most recent call last)",
      "\u001b[1;32m<ipython-input-242-e56c84e5c323>\u001b[0m in \u001b[0;36m<module>\u001b[1;34m\u001b[0m\n\u001b[0;32m      1\u001b[0m \u001b[0mplot2\u001b[0m \u001b[1;33m=\u001b[0m \u001b[0msns\u001b[0m\u001b[1;33m.\u001b[0m\u001b[0mbarplot\u001b[0m\u001b[1;33m(\u001b[0m\u001b[0mx\u001b[0m\u001b[1;33m=\u001b[0m\u001b[1;34m\"neighbourhood\"\u001b[0m\u001b[1;33m,\u001b[0m \u001b[0my\u001b[0m\u001b[1;33m=\u001b[0m\u001b[1;34m\"price\"\u001b[0m\u001b[1;33m,\u001b[0m \u001b[0mdata\u001b[0m\u001b[1;33m=\u001b[0m\u001b[0mdf\u001b[0m\u001b[1;33m)\u001b[0m\u001b[1;33m\u001b[0m\u001b[1;33m\u001b[0m\u001b[0m\n\u001b[1;32m----> 2\u001b[1;33m \u001b[0mplot1\u001b[0m\u001b[1;33m.\u001b[0m\u001b[0mset_title\u001b[0m\u001b[1;33m(\u001b[0m\u001b[1;34m\"Distribution of Prices for Each Room Type\"\u001b[0m\u001b[1;33m)\u001b[0m\u001b[1;33m\u001b[0m\u001b[1;33m\u001b[0m\u001b[0m\n\u001b[0m\u001b[0;32m      3\u001b[0m \u001b[0mplot1\u001b[0m\u001b[1;33m.\u001b[0m\u001b[0mset_xlabel\u001b[0m\u001b[1;33m(\u001b[0m\u001b[1;34m\"Room Type\"\u001b[0m\u001b[1;33m)\u001b[0m\u001b[1;33m\u001b[0m\u001b[1;33m\u001b[0m\u001b[0m\n\u001b[0;32m      4\u001b[0m \u001b[0mplot1\u001b[0m\u001b[1;33m.\u001b[0m\u001b[0mset_ylabel\u001b[0m\u001b[1;33m(\u001b[0m\u001b[1;34m\"Price\"\u001b[0m\u001b[1;33m)\u001b[0m\u001b[1;33m\u001b[0m\u001b[1;33m\u001b[0m\u001b[0m\n",
      "\u001b[1;31mAttributeError\u001b[0m: 'FacetGrid' object has no attribute 'set_title'"
     ]
    },
    {
     "data": {
      "image/png": "[encoded data removed]",
      "text/plain": [
       "<Figure size 432x288 with 1 Axes>"
      ]
     },
     "metadata": {
      "needs_background": "light"
     },
     "output_type": "display_data"
    }
   ],
   "source": [
    "plot2 = sns.barplot(x=\"neighbourhood\", y=\"price\", data=df)\n",
    "plot1.set_title(\"Distribution of Prices for Each Room Type\")\n",
    "plot1.set_xlabel(\"Room Type\")\n",
    "plot1.set_ylabel(\"Price\")"
   ]
  },
  {
   "cell_type": "markdown",
   "metadata": {},
   "source": [
    "## Problem 7\n",
    "1. Choose a dataset of your choice from the following website: https://corgis-edu.github.io/corgis/json/.\n",
    "2. Create a Pandas Dataframe of your preferred dataset in JSON format using the dataset's link (don't download the dataset) and display the first 10 rows of the Pandas Dataframe.\n",
    "3. Use ***matplotlib*** and plot *5* different graphs."
   ]
  },
  {
   "cell_type": "code",
   "execution_count": null,
   "metadata": {},
   "outputs": [],
   "source": [
    "# Write your code for Problem 7 over here"
   ]
  },
  {
   "cell_type": "markdown",
   "metadata": {},
   "source": [
    "## Problem 8\n",
    "### You are given a positive integer *N*.\n",
    "### Your task is to print a palindromic triangle of size *N*.\n",
    "### \n",
    "### For example, a palindromic triangle of size *5* is:\n",
    "### \n",
    "## 1\n",
    "## 121\n",
    "## 12321\n",
    "## 1234321\n",
    "## 123454321\n",
    "### \n",
    "### Note: You can't use string-related functions and you can only use one for-loop"
   ]
  },
  {
   "cell_type": "code",
   "execution_count": 221,
   "metadata": {},
   "outputs": [
    {
     "name": "stdout",
     "output_type": "stream",
     "text": [
      "11\n",
      "22\n",
      "33\n",
      "44\n"
     ]
    }
   ],
   "source": [
    "# Write your code for Problem 8 over here\n",
    "N = 5\n",
    "for i in range(1,N):\n",
    "    "
   ]
  },
  {
   "cell_type": "markdown",
   "metadata": {},
   "source": [
    "## Problem 9\n",
    "### Given two lists. Create a third list by picking an odd-index element from the first list and even index elements from second."
   ]
  },
  {
   "cell_type": "code",
   "execution_count": 228,
   "metadata": {},
   "outputs": [
    {
     "name": "stdout",
     "output_type": "stream",
     "text": [
      "[1, 12, 3, 14, 5, 16, 7, 18, 9, 20]\n"
     ]
    }
   ],
   "source": [
    "# Write your code for Problem 9 over here\n",
    "list1 = [11,12,13,14,15,16,17,18,19,20]\n",
    "list2 = [1,2,3,4,5,6,7,8,9,10]\n",
    "list3 = []\n",
    "\n",
    "for i in range(max(len(list1),len(list2))):\n",
    "    if i%2 == 0 and i < len(list2):\n",
    "        list3.append(list2[i])\n",
    "    elif i < len(list1):\n",
    "        list3.append(list1[i])\n",
    "        \n",
    "print(list3)"
   ]
  },
  {
   "cell_type": "markdown",
   "metadata": {},
   "source": [
    "## Problem 10\n",
    "### Given a list, count the occurrence of each element and create a dictionary to show the count of each element."
   ]
  },
  {
   "cell_type": "code",
   "execution_count": 263,
   "metadata": {},
   "outputs": [
    {
     "name": "stdout",
     "output_type": "stream",
     "text": [
      "{'a': 2, 'b': 1, 'c': 3}\n"
     ]
    }
   ],
   "source": [
    "# Write your code for Problem 10 over here\n",
    "l = [\"a\", \"a\", \"b\", \"c\", \"c\" , \"c\"]\n",
    "d = {}\n",
    "\n",
    "for i in range(len(l)):\n",
    "    if l[i] in list(d.keys()):\n",
    "        d[l[i]] = d[l[i]]+1\n",
    "    else:\n",
    "        d[l[i]] = 1\n",
    "\n",
    "print(d)"
   ]
  },
  {
   "cell_type": "markdown",
   "metadata": {},
   "source": [
    "## Problem 11\n",
    "### Given two lists, convert them into a dictionary. The first list will represent the \"keys\", and the second list will represent the \"values\""
   ]
  },
  {
   "cell_type": "code",
   "execution_count": 267,
   "metadata": {},
   "outputs": [
    {
     "name": "stdout",
     "output_type": "stream",
     "text": [
      "{'a': 1, 'b': 2, 'c': 3, 'd': 4, 'e': 5, 'f': 6}\n"
     ]
    }
   ],
   "source": [
    "# Write your code for Problem 11 over here\n",
    "list1 = [\"a\", \"b\", \"c\", \"d\", \"e\" , \"f\"]\n",
    "list2 = [1, 2, 3, 4, 5, 6]\n",
    "d = {}\n",
    "\n",
    "for i in range(len(list1)):\n",
    "    d[list1[i]] = list2[i]\n",
    "    \n",
    "print(d)"
   ]
  },
  {
   "cell_type": "markdown",
   "metadata": {},
   "source": [
    "## Problem 12\n",
    "### Merge 2 dictionaries into 1 dictionary"
   ]
  },
  {
   "cell_type": "code",
   "execution_count": 275,
   "metadata": {},
   "outputs": [
    {
     "name": "stdout",
     "output_type": "stream",
     "text": [
      "{'a': 1, 'b': 2, 'c': 3, 'd': 1, 'e': 2, 'f': 3}\n"
     ]
    }
   ],
   "source": [
    "# Write your code for Problem 12 over here\n",
    "d1 = {\"a\": 1, \"b\": 2, \"c\":3}\n",
    "d2 = {\"d\": 1, \"e\": 2, \"f\":3}\n",
    "\n",
    "for i in list(d2.keys()):\n",
    "    d1[i] = d2[i]\n",
    "    \n",
    "print(d1)"
   ]
  },
  {
   "cell_type": "markdown",
   "metadata": {},
   "source": [
    "## Problem 13\n",
    "### Using *numpy*, create a 4 by 2 integer array and print its attributes (the shape of the array and the array dimensions)"
   ]
  },
  {
   "cell_type": "code",
   "execution_count": 284,
   "metadata": {},
   "outputs": [
    {
     "name": "stdout",
     "output_type": "stream",
     "text": [
      "shape (2,)\n",
      "dimensions 1\n"
     ]
    }
   ],
   "source": [
    "# Write your code for Problem 13 over here\n",
    "import numpy as np\n",
    "\n",
    "arr = np.array([[1,2,3,4], [1,2]])\n",
    "\n",
    "print(\"shape\", arr.shape)\n",
    "print(\"dimensions\", arr.ndim)"
   ]
  },
  {
   "cell_type": "markdown",
   "metadata": {},
   "source": [
    "# Problem 14 - Problem 25"
   ]
  },
  {
   "cell_type": "markdown",
   "metadata": {},
   "source": [
    "## Problem 14\n",
    "#### Create a Pandas Dataframe using the CSV file provided at this link: https://pynative.com/wp-content/uploads/2019/01/company_sales_data.csv\n",
    "#### Also, display the first 20 rows of the dataframe\n",
    "#### Note: Don't download the CSV File, and you can use either *matplotlib* or *seaborn* for these problems"
   ]
  },
  {
   "cell_type": "code",
   "execution_count": 4,
   "metadata": {},
   "outputs": [],
   "source": [
    "# Write your code for Problem 14 over here"
   ]
  },
  {
   "cell_type": "markdown",
   "metadata": {},
   "source": [
    "## Problem 15\n",
    "### Using a line plot, plot the Month (x-axis) against the Total Profit (y-axis)"
   ]
  },
  {
   "cell_type": "code",
   "execution_count": 5,
   "metadata": {},
   "outputs": [],
   "source": [
    "# Write your code for Problem 15 over here"
   ]
  },
  {
   "cell_type": "markdown",
   "metadata": {},
   "source": [
    "## Problem 16\n",
    "### Using a line plot, plot the Month (x-axis) against the Total Profit (y-axis) with the following style properties:\n",
    "* Dotted Red Line\n",
    "* The width of the line graph should be 3\n",
    "* Legend should be placed at the bottom right section of the graph\n",
    "* Add a label for the x-axis\n",
    "* Add a label for the y-axis\n",
    "* Add a title\n",
    "* Add a yellow circular marker at each point on the graph"
   ]
  },
  {
   "cell_type": "code",
   "execution_count": 6,
   "metadata": {},
   "outputs": [],
   "source": [
    "# Write your code for Problem 16 over here"
   ]
  },
  {
   "cell_type": "markdown",
   "metadata": {},
   "source": [
    "## Problem 17\n",
    "### Display the number of units sold per month for each product using multiline plots (must be on the same figure). Make sure that the plot for each product is a different color, and add a legend, title, and axis labels to the graph as well."
   ]
  },
  {
   "cell_type": "code",
   "execution_count": 7,
   "metadata": {},
   "outputs": [],
   "source": [
    "# Write your code for Problem 17 over here"
   ]
  },
  {
   "cell_type": "markdown",
   "metadata": {},
   "source": [
    "## Problem 18\n",
    "### Plot the toothpaste sales data of each month using a scatter plot. Also, add a grid on the plot, the gridline style should be \"-\"."
   ]
  },
  {
   "cell_type": "code",
   "execution_count": 8,
   "metadata": {},
   "outputs": [],
   "source": [
    "# Write your code for Problem 18 over here"
   ]
  },
  {
   "cell_type": "markdown",
   "metadata": {},
   "source": [
    "## Problem 19\n",
    "### Plot the product sales data of face cream and facewash using a bar chart on the same plot."
   ]
  },
  {
   "cell_type": "code",
   "execution_count": 9,
   "metadata": {},
   "outputs": [],
   "source": [
    "# Write your code for Problem 19 over here"
   ]
  },
  {
   "cell_type": "markdown",
   "metadata": {},
   "source": [
    "## Problem 20\n",
    "### Plot the total profit of each month using a histogram"
   ]
  },
  {
   "cell_type": "code",
   "execution_count": 10,
   "metadata": {},
   "outputs": [],
   "source": [
    "# Write your code for Problem 20 over here"
   ]
  },
  {
   "cell_type": "markdown",
   "metadata": {},
   "source": [
    "## Problem 21\n",
    "### Calculate the total sales data for last year for each product and show it using a pie chart. Make sure that the percentage of each slice on the pie chart is visible on the chart itself, and add a legend as well."
   ]
  },
  {
   "cell_type": "code",
   "execution_count": 11,
   "metadata": {},
   "outputs": [],
   "source": [
    "# Write your code for Problem 21 over here"
   ]
  },
  {
   "cell_type": "markdown",
   "metadata": {},
   "source": [
    "## Problem 22\n",
    "### Plot all of the product sales data using a stack plot."
   ]
  },
  {
   "cell_type": "code",
   "execution_count": 12,
   "metadata": {},
   "outputs": [],
   "source": [
    "# Write your code for Problem 22 over here"
   ]
  }
 ],
 "metadata": {
  "kernelspec": {
   "display_name": "Python 3",
   "language": "python",
   "name": "python3"
  },
  "language_info": {
   "codemirror_mode": {
    "name": "ipython",
    "version": 3
   },
   "file_extension": ".py",
   "mimetype": "text/x-python",
   "name": "python",
   "nbconvert_exporter": "python",
   "pygments_lexer": "ipython3",
   "version": "3.7.6"
  }
 },
 "nbformat": 4,
 "nbformat_minor": 4
}
